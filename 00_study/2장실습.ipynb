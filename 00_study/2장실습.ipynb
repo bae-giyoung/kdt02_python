{
 "cells": [
  {
   "cell_type": "code",
   "execution_count": null,
   "id": "db0eea5a",
   "metadata": {},
   "outputs": [
    {
     "ename": "NameError",
     "evalue": "name 'msgg' is not defined",
     "output_type": "error",
     "traceback": [
      "\u001b[1;31m---------------------------------------------------------------------------\u001b[0m",
      "\u001b[1;31mNameError\u001b[0m                                 Traceback (most recent call last)",
      "Cell \u001b[1;32mIn[4], line 3\u001b[0m\n\u001b[0;32m      1\u001b[0m \u001b[38;5;66;03m# 변수 실행시 오류 확인\u001b[39;00m\n\u001b[0;32m      2\u001b[0m msg\u001b[38;5;241m=\u001b[39m\u001b[38;5;124m\"\u001b[39m\u001b[38;5;124mhello good day\u001b[39m\u001b[38;5;124m\"\u001b[39m\n\u001b[1;32m----> 3\u001b[0m \u001b[38;5;28mprint\u001b[39m(\u001b[43mmsgg\u001b[49m)\n",
      "\u001b[1;31mNameError\u001b[0m: name 'msgg' is not defined"
     ]
    }
   ],
   "source": [
    "# 실행시 변수 오류 확인\n",
    "msg=\"hello good day\"\n",
    "print(msgg)"
   ]
  },
  {
   "cell_type": "code",
   "execution_count": 5,
   "id": "826d1c77",
   "metadata": {},
   "outputs": [
    {
     "name": "stdout",
     "output_type": "stream",
     "text": [
      "hello world hello good day\n"
     ]
    }
   ],
   "source": [
    "print(\"hello world\", msg)"
   ]
  },
  {
   "cell_type": "code",
   "execution_count": 22,
   "id": "6152faa5",
   "metadata": {},
   "outputs": [
    {
     "name": "stdout",
     "output_type": "stream",
     "text": [
      "Good morning\n",
      "NICE WORK\n",
      "Good Morning\n",
      "12\n",
      "NICE WORK\n",
      "15\n"
     ]
    }
   ],
   "source": [
    "# 변수 이름은 의미 있게\n",
    "greeting='good morning'\n",
    "greeting_job=\"nice work\"\n",
    "s1 = greeting.capitalize()\n",
    "s2 = greeting_job.upper()\n",
    "print(s1)\n",
    "print(s2)\n",
    "print(greeting.title())\n",
    "\n",
    "#num변수. #num은 참조 변수. Python의 변수는 전부 객체에 대한 참조변수이다!\n",
    "num = 12\n",
    "print(num)\n",
    "num = s2\n",
    "print(num)\n",
    "num = 15\n",
    "num.bit_length()\n",
    "print(num)"
   ]
  },
  {
   "cell_type": "code",
   "execution_count": 21,
   "id": "1ef49403",
   "metadata": {},
   "outputs": [
    {
     "name": "stdout",
     "output_type": "stream",
     "text": [
      "hong -> gil dong\n",
      "Hong -> Gil Dong\n"
     ]
    }
   ],
   "source": [
    "# f-문자열\n",
    "# format\n",
    "last_name = \"hong\"\n",
    "first_name = 'gil dong'\n",
    "full_name = f\"{last_name} -> {first_name}\"\n",
    "print(full_name)\n",
    "print(full_name.title())"
   ]
  },
  {
   "cell_type": "code",
   "execution_count": 32,
   "id": "7e9662cc",
   "metadata": {},
   "outputs": [
    {
     "name": "stdout",
     "output_type": "stream",
     "text": [
      "문자열 실습: \t\thong\n",
      "문자열 실습: \n",
      "hong\n",
      "문자열 실습: \\hong\n"
     ]
    }
   ],
   "source": [
    "print(f\"문자열 실습: \\t\\t{last_name}\")\n",
    "print(f\"문자열 실습: \\n{last_name}\")\n",
    "print(f\"문자열 실습: \\\\{last_name}\")"
   ]
  },
  {
   "cell_type": "code",
   "execution_count": 54,
   "id": "057575b6",
   "metadata": {},
   "outputs": [
    {
     "name": "stdout",
     "output_type": "stream",
     "text": [
      "['12', '44', '66', '123', '243']\n",
      "정렬된 문자열 배열: ['12', '123', '243', '44', '66']\n"
     ]
    }
   ],
   "source": [
    "num = \" 12 44 66   123 243 \"\n",
    "\n",
    "# 1. 문자열을 공백 기준으로 분리 (앞뒤 공백 제거 후)\n",
    "str_list = num.strip().split()\n",
    "print(str_list)\n",
    "\n",
    "# 2. 문자열 배열을 정렬 (문자열 기준으로 정렬됨)\n",
    "str_list.sort()\n",
    "\n",
    "# 3. 출력\n",
    "print(\"정렬된 문자열 배열:\", str_list)\n"
   ]
  },
  {
   "cell_type": "code",
   "execution_count": 55,
   "id": "70d44a98",
   "metadata": {},
   "outputs": [
    {
     "name": "stdout",
     "output_type": "stream",
     "text": [
      "***  12 44 66   123 243  ***\n",
      "***  12 44 66   123 243 ***\n",
      "*** 12 44 66   123 243  ***\n",
      "*** 12 44 66   123 243 ***\n"
     ]
    }
   ],
   "source": [
    "# 공백 제거\n",
    "print(\"***\",num,\"***\")\n",
    "print(\"***\",num.rstrip(),\"***\")\n",
    "print(\"***\",num.lstrip(),\"***\")\n",
    "print(\"***\",num.strip(),\"***\")"
   ]
  },
  {
   "cell_type": "code",
   "execution_count": null,
   "id": "023343bf",
   "metadata": {},
   "outputs": [],
   "source": [
    "num = \" 12 44 66 123 243\"\n",
    "\n",
    "# 1. 문자열 앞뒤 공백 제거 후 공백 기준 분리\n",
    "str_list = num.strip().split()\n",
    "\n",
    "# 2. 각 문자열 요소를 정수로 변환\n",
    "# 확장형 for문\n",
    "int_list = [int(s) for s in str_list]\n",
    "\n",
    "# 3. 정수 리스트 정렬\n",
    "int_list.sort()\n",
    "\n",
    "# 4. 출력\n",
    "print(\"정렬된 정수 리스트:\", int_list)\n",
    "\n",
    "\n",
    "# 파이썬의 기본 데이터 타입\n",
    "## list, 그 중 숫자들의 list는 머신러닝에서 중요!\n"
   ]
  },
  {
   "cell_type": "code",
   "execution_count": 56,
   "id": "01486b8c",
   "metadata": {},
   "outputs": [
    {
     "data": {
      "text/plain": [
       "0.2"
      ]
     },
     "execution_count": 56,
     "metadata": {},
     "output_type": "execute_result"
    }
   ],
   "source": [
    "2*0.1"
   ]
  },
  {
   "cell_type": "code",
   "execution_count": 73,
   "id": "c0a3138e",
   "metadata": {},
   "outputs": [
    {
     "data": {
      "text/plain": [
       "0.30000000000000004"
      ]
     },
     "execution_count": 73,
     "metadata": {},
     "output_type": "execute_result"
    }
   ],
   "source": [
    "# 부동소수점 오차 확인하기\n",
    "0.2+0.1"
   ]
  },
  {
   "cell_type": "code",
   "execution_count": 59,
   "id": "b6534b63",
   "metadata": {},
   "outputs": [
    {
     "data": {
      "text/plain": [
       "0.30000000000000004"
      ]
     },
     "execution_count": 59,
     "metadata": {},
     "output_type": "execute_result"
    }
   ],
   "source": [
    "3*0.1"
   ]
  },
  {
   "cell_type": "code",
   "execution_count": 60,
   "id": "c6a24897",
   "metadata": {},
   "outputs": [
    {
     "data": {
      "text/plain": [
       "0.3"
      ]
     },
     "execution_count": 60,
     "metadata": {},
     "output_type": "execute_result"
    }
   ],
   "source": [
    "0.3"
   ]
  },
  {
   "cell_type": "code",
   "execution_count": 63,
   "id": "369df781",
   "metadata": {},
   "outputs": [
    {
     "name": "stdout",
     "output_type": "stream",
     "text": [
      "False\n"
     ]
    }
   ],
   "source": [
    "print(0.3 == 0.1 + 0.2)\n"
   ]
  },
  {
   "cell_type": "code",
   "execution_count": 82,
   "id": "542e287f",
   "metadata": {},
   "outputs": [
    {
     "name": "stdout",
     "output_type": "stream",
     "text": [
      "True\n"
     ]
    }
   ],
   "source": [
    "import math\n",
    "\n",
    "print(math.isclose(0.1 + 0.2, 0.3))  # True\n"
   ]
  },
  {
   "cell_type": "code",
   "execution_count": 67,
   "id": "bac28d3a",
   "metadata": {},
   "outputs": [
    {
     "name": "stdout",
     "output_type": "stream",
     "text": [
      "0.8999999999999999\n"
     ]
    }
   ],
   "source": [
    "print(0.3*3)"
   ]
  },
  {
   "cell_type": "markdown",
   "id": "6c93ca53",
   "metadata": {},
   "source": [
    "부동소수점(floating point) 오차 때문이다.\n",
    "- 파이썬(및 대부분의 언어)은 이진수 기반의 IEEE 754 방식으로 실수를 저장 > 일부 소수는 정확하게 표현 못함"
   ]
  },
  {
   "cell_type": "code",
   "execution_count": 66,
   "id": "38e281ea",
   "metadata": {},
   "outputs": [
    {
     "name": "stdout",
     "output_type": "stream",
     "text": [
      "1000000000\n"
     ]
    }
   ],
   "source": [
    "sum = 1_000_000_000 # 개발자가 코딩할때 보기 쉽게 하기 위한 표현\n",
    "print(sum) # 1000000000"
   ]
  },
  {
   "cell_type": "code",
   "execution_count": null,
   "id": "4f1121b6",
   "metadata": {},
   "outputs": [
    {
     "name": "stdout",
     "output_type": "stream",
     "text": [
      "1 2 3\n"
     ]
    }
   ],
   "source": [
    "# 다중 할당(자주 사용)\n",
    "x,y,z=1,2,3\n",
    "print(x,y,z)"
   ]
  },
  {
   "cell_type": "code",
   "execution_count": 80,
   "id": "3f5e2eb1",
   "metadata": {},
   "outputs": [
    {
     "name": "stdout",
     "output_type": "stream",
     "text": [
      "3 2 3\n"
     ]
    }
   ],
   "source": [
    "# 다중 할당(swqp 기능), 순서 주의!\n",
    "x,y,z = y,z,x\n",
    "print(x,y,z) # 2 3 1이 나오지 않고 2 3 3이 나온다!"
   ]
  },
  {
   "cell_type": "code",
   "execution_count": 83,
   "id": "33aca54a",
   "metadata": {},
   "outputs": [
    {
     "name": "stdout",
     "output_type": "stream",
     "text": [
      "The Zen of Python, by Tim Peters\n",
      "\n",
      "Beautiful is better than ugly.\n",
      "Explicit is better than implicit.\n",
      "Simple is better than complex.\n",
      "Complex is better than complicated.\n",
      "Flat is better than nested.\n",
      "Sparse is better than dense.\n",
      "Readability counts.\n",
      "Special cases aren't special enough to break the rules.\n",
      "Although practicality beats purity.\n",
      "Errors should never pass silently.\n",
      "Unless explicitly silenced.\n",
      "In the face of ambiguity, refuse the temptation to guess.\n",
      "There should be one-- and preferably only one --obvious way to do it.\n",
      "Although that way may not be obvious at first unless you're Dutch.\n",
      "Now is better than never.\n",
      "Although never is often better than *right* now.\n",
      "If the implementation is hard to explain, it's a bad idea.\n",
      "If the implementation is easy to explain, it may be a good idea.\n",
      "Namespaces are one honking great idea -- let's do more of those!\n"
     ]
    }
   ],
   "source": [
    "import this"
   ]
  }
 ],
 "metadata": {
  "kernelspec": {
   "display_name": "Python 3",
   "language": "python",
   "name": "python3"
  },
  "language_info": {
   "codemirror_mode": {
    "name": "ipython",
    "version": 3
   },
   "file_extension": ".py",
   "mimetype": "text/x-python",
   "name": "python",
   "nbconvert_exporter": "python",
   "pygments_lexer": "ipython3",
   "version": "3.9.13"
  }
 },
 "nbformat": 4,
 "nbformat_minor": 5
}
