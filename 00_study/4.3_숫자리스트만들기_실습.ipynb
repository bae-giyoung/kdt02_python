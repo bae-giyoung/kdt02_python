{
 "cells": [
  {
   "cell_type": "markdown",
   "id": "c449703c",
   "metadata": {},
   "source": [
    "예제 1: 처음 5개 요소 추출"
   ]
  },
  {
   "cell_type": "markdown",
   "id": "b584ba0c",
   "metadata": {},
   "source": [
    "range(1, 5) > iterable 객체 (range object) 생성\n",
    "list(range(1, 5)) > 리스트로 변환 → [1, 2, 3, 4]\n",
    "for x in range(1, 5) > 내부적으로 반복자(iterator)를 사용함"
   ]
  },
  {
   "cell_type": "markdown",
   "id": "d03f098f",
   "metadata": {},
   "source": [
    "파이썬의 for문은 이터러블이면 모두 사용 가능\n",
    "- range(1, 5)는 내부적으로 __iter__()와 __next__()를 제공하므로 리스트처럼 반복이 가능"
   ]
  },
  {
   "cell_type": "code",
   "execution_count": null,
   "id": "34621651",
   "metadata": {},
   "outputs": [
    {
     "name": "stdout",
     "output_type": "stream",
     "text": [
      "1\n",
      "2\n",
      "3\n",
      "4\n",
      "range(1, 5)\n"
     ]
    }
   ],
   "source": [
    "itr = range(1,5)\n",
    "# itr.__iter__() # 확인한다 \n",
    "print(itr)\n"
   ]
  },
  {
   "cell_type": "code",
   "execution_count": null,
   "id": "d77ca227",
   "metadata": {},
   "outputs": [
    {
     "name": "stdout",
     "output_type": "stream",
     "text": [
      "1\n",
      "2\n",
      "3\n",
      "4\n",
      "5\n"
     ]
    }
   ],
   "source": [
    "lst = [1,2,3,4,5] # list도 iterable 객체이다.\n",
    "for v in lst: # v는 원소\n",
    "    print(v)"
   ]
  },
  {
   "cell_type": "code",
   "execution_count": 4,
   "id": "62f84cc4",
   "metadata": {},
   "outputs": [
    {
     "name": "stdout",
     "output_type": "stream",
     "text": [
      "1\n",
      "2\n",
      "3\n",
      "4\n"
     ]
    }
   ],
   "source": [
    "for value in range(1,5):\n",
    "    print(value)"
   ]
  },
  {
   "cell_type": "markdown",
   "id": "b2c8b1e4",
   "metadata": {},
   "source": [
    "for는 range가 **이터러블(iterable)**이라는 점만 필요로 하지, 리스트일 필요는 없다 "
   ]
  },
  {
   "cell_type": "code",
   "execution_count": 9,
   "id": "c2ffe6f5",
   "metadata": {},
   "outputs": [
    {
     "name": "stdout",
     "output_type": "stream",
     "text": [
      "[1, 2, 3, 4]\n"
     ]
    }
   ],
   "source": [
    "numbers=list(range(0,11)) # list() 함수는 반드시 iterable 객체를 인자로 요구\n",
    "print(numbers[1:5]) # 두번째 인수는 포함되지 않는다 "
   ]
  },
  {
   "cell_type": "markdown",
   "id": "4af3ab7f",
   "metadata": {},
   "source": [
    " 예제 2: 마지막 3개 요소 추출"
   ]
  },
  {
   "cell_type": "code",
   "execution_count": 10,
   "id": "295a8407",
   "metadata": {},
   "outputs": [
    {
     "name": "stdout",
     "output_type": "stream",
     "text": [
      "[8, 9, 10]\n"
     ]
    }
   ],
   "source": [
    "print(numbers[-3:])  # [8, 9, 10]\n"
   ]
  },
  {
   "cell_type": "markdown",
   "id": "ae718054",
   "metadata": {},
   "source": [
    "예제 3: 짝수 인덱스 요소만 추출"
   ]
  },
  {
   "cell_type": "code",
   "execution_count": 17,
   "id": "1e9f02df",
   "metadata": {},
   "outputs": [
    {
     "name": "stdout",
     "output_type": "stream",
     "text": [
      "[0, 2, 4, 6, 8, 10]\n",
      "[10, 9, 8, 7, 6, 5, 4, 3, 2, 1, 0]\n",
      "[10, 8, 6, 4, 2, 0]\n"
     ]
    }
   ],
   "source": [
    "print(numbers[::2])  # [1, 3, 5, 7, 9] # 시작:끝:스텝\n",
    "\n",
    "print(numbers[::-1]) # -스텝은 반대 방향!\n",
    "print(numbers[::-2])\n"
   ]
  },
  {
   "cell_type": "markdown",
   "id": "f7ffc3da",
   "metadata": {},
   "source": [
    "예제 4: 리스트를 반으로 나누기"
   ]
  },
  {
   "cell_type": "code",
   "execution_count": 24,
   "id": "0cc008df",
   "metadata": {},
   "outputs": [
    {
     "name": "stdout",
     "output_type": "stream",
     "text": [
      "5.5\n",
      "5\n",
      "왼쪽: [0, 1, 2, 3, 4]\n",
      "오른쪽: [5, 6, 7, 8, 9, 10]\n"
     ]
    }
   ],
   "source": [
    "mid = len(numbers) / 2 # 5.5\n",
    "print(mid)\n",
    "\n",
    "mid = len(numbers) // 2 # 정수//정수 -> 정수\n",
    "print(mid)\n",
    "\n",
    "left = numbers[:mid]\n",
    "right = numbers[mid:]\n",
    "print(\"왼쪽:\", left)\n",
    "print(\"오른쪽:\", right)\n"
   ]
  },
  {
   "cell_type": "markdown",
   "id": "207afdbc",
   "metadata": {},
   "source": [
    "예제 5: 리스트를 거꾸로 뒤집기 (역순)"
   ]
  },
  {
   "cell_type": "markdown",
   "id": "1af0ec86",
   "metadata": {},
   "source": [
    "sequence[start:stop:step]\n",
    "start: 시작 인덱스\n",
    "\n",
    "stop: 끝 인덱스 (불포함)\n",
    "\n",
    "step: 간격, -1이면 역순\n",
    "\n"
   ]
  },
  {
   "cell_type": "code",
   "execution_count": 28,
   "id": "9503c1d9",
   "metadata": {},
   "outputs": [
    {
     "name": "stdout",
     "output_type": "stream",
     "text": [
      "[10, 9, 8, 7, 6, 5, 4, 3, 2, 1, 0]\n"
     ]
    }
   ],
   "source": [
    "print(numbers[::-1])  # [10, 9, ..., 1]\n"
   ]
  },
  {
   "cell_type": "markdown",
   "id": "5d82cc3b",
   "metadata": {},
   "source": [
    "예제 9: 슬라이스로 전체 복사 (얕은 복사)"
   ]
  },
  {
   "cell_type": "markdown",
   "id": "7e626b36",
   "metadata": {},
   "source": []
  },
  {
   "cell_type": "code",
   "execution_count": 34,
   "id": "9da61fc4",
   "metadata": {},
   "outputs": [
    {
     "name": "stdout",
     "output_type": "stream",
     "text": [
      "[0, 1, 2, 3, 4, 5, 6, 7, 8, 9, 10]\n",
      "[99, 1, 2, 3, 4, 5, 6, 7, 8, 9, 10]\n",
      "[0, 1, 2, 3, 4, 5, 6, 7, 8, 9, 10]\n"
     ]
    }
   ],
   "source": [
    "copy = numbers[:]#numbers[:]는 **shallow copy (얕은 복사)**\n",
    "print(copy)\n",
    "copy[0] = 99 #복사한 리스트를 수정해도 원본에는 영향이 없다 > 그래서 겉보기엔 deep copy처럼 보인다 \n",
    "print(copy)\n",
    "print(numbers)\n"
   ]
  },
  {
   "cell_type": "markdown",
   "id": "f1dccaf5",
   "metadata": {},
   "source": [
    "2차원 리스트 → 내부 객체는 공유됨 (진짜 shallow copy)\n",
    "matrix[:]는 바깥 리스트만 복사하고, 내부 리스트들은 그대로 참조함\n",
    "즉, 얕은 복사(shallow copy)의 전형적인 사례"
   ]
  },
  {
   "cell_type": "code",
   "execution_count": 36,
   "id": "1de74591",
   "metadata": {},
   "outputs": [
    {
     "name": "stdout",
     "output_type": "stream",
     "text": [
      "[[999, 2], [3, 4]]\n",
      "[[999, 2], [3, 4]]\n"
     ]
    }
   ],
   "source": [
    "matrix = [[1, 2], [3, 4]]\n",
    "copy_matrix = matrix[:] # shallow copy\n",
    "copy_matrix[0][0] = 999\n",
    "\n",
    "print(matrix)        # [[999, 2], [3, 4]] ← 원본도 바뀜!\n",
    "print(copy_matrix)   # [[999, 2], [3, 4]]\n"
   ]
  },
  {
   "cell_type": "markdown",
   "id": "45e0b071",
   "metadata": {},
   "source": [
    "matrix[:]는 바깥 리스트만 복사하고, 내부 리스트들은 그대로 참조함\n",
    "즉, 얕은 복사(shallow copy)의 전형적인 사례"
   ]
  },
  {
   "cell_type": "code",
   "execution_count": 40,
   "id": "a3a10105",
   "metadata": {},
   "outputs": [
    {
     "name": "stdout",
     "output_type": "stream",
     "text": [
      "[[999, 2], [3, 4]]\n",
      "[[-1, 2], [3, 4]]\n"
     ]
    }
   ],
   "source": [
    "import copy\n",
    "deep_copy = copy.deepcopy(matrix)\n",
    "deep_copy[0][0] = -1\n",
    "print(matrix)\n",
    "print(deep_copy)"
   ]
  },
  {
   "cell_type": "code",
   "execution_count": 25,
   "id": "1ce67d2e",
   "metadata": {},
   "outputs": [
    {
     "name": "stdout",
     "output_type": "stream",
     "text": [
      "[[2, 4, 6, 8, 10, 12, 14, 16, 18], [3, 6, 9, 12, 15, 18, 21, 24, 27], [4, 8, 12, 16, 20, 24, 28, 32, 36], [5, 10, 15, 20, 25, 30, 35, 40, 45], [6, 12, 18, 24, 30, 36, 42, 48, 54], [7, 14, 21, 28, 35, 42, 49, 56, 63], [8, 16, 24, 32, 40, 48, 56, 64, 72], [9, 18, 27, 36, 45, 54, 63, 72, 81]]\n",
      "2*1= 2 2*2= 4 2*3= 6 2*4= 8 2*5= 10 2*6= 12 2*7= 14 2*8= 16 2*9= 18 3*1= 3 3*2= 6 3*3= 9 3*4= 12 3*5= 15 3*6= 18 3*7= 21 3*8= 24 3*9= 27 4*1= 4 4*2= 8 4*3= 12 4*4= 16 4*5= 20 4*6= 24 4*7= 28 4*8= 32 4*9= 36 5*1= 5 5*2= 10 5*3= 15 5*4= 20 5*5= 25 5*6= 30 5*7= 35 5*8= 40 5*9= 45 6*1= 6 6*2= 12 6*3= 18 6*4= 24 6*5= 30 6*6= 36 6*7= 42 6*8= 48 6*9= 54 7*1= 7 7*2= 14 7*3= 21 7*4= 28 7*5= 35 7*6= 42 7*7= 49 7*8= 56 7*9= 63 8*1= 8 8*2= 16 8*3= 24 8*4= 32 8*5= 40 8*6= 48 8*7= 56 8*8= 64 8*9= 72 9*1= 9 9*2= 18 9*3= 27 9*4= 36 9*5= 45 9*6= 54 9*7= 63 9*8= 72 9*9= 81 "
     ]
    }
   ],
   "source": [
    "# 구구단 행렬 list comperhension으로\n",
    "guguResult = [[col*row for col in range(1,10)] for row in range(2,10)]\n",
    "print(guguResult)\n",
    "\n",
    "for row in range(2, 10):\n",
    "    for col in range(1, 10):\n",
    "        print(f\"{row}*{col}= {guguResult[row-2][col-1]}\", end=\" \")\n"
   ]
  },
  {
   "cell_type": "code",
   "execution_count": 20,
   "id": "9fe8042c",
   "metadata": {},
   "outputs": [
    {
     "name": "stdout",
     "output_type": "stream",
     "text": [
      "1의 제곱은 1\n",
      "2의 제곱은 4\n",
      "3의 제곱은 9\n",
      "4의 제곱은 16\n",
      "5의 제곱은 25\n",
      "6의 제곱은 36\n",
      "7의 제곱은 49\n",
      "8의 제곱은 64\n",
      "9의 제곱은 81\n",
      "10의 제곱은 100\n",
      "[1, 4, 9, 16, 25, 36, 49, 64, 81, 100]\n"
     ]
    }
   ],
   "source": [
    "squares=[]\n",
    "for value in range(1,11):\n",
    "    squares.append(value**2)\n",
    "    print(\"{}의 제곱은 {}\".format(value, value**2)) # f문자열로도 할 수 있다\n",
    "    \n",
    "print(squares)"
   ]
  },
  {
   "cell_type": "code",
   "execution_count": 23,
   "id": "0937f10d",
   "metadata": {},
   "outputs": [
    {
     "name": "stdout",
     "output_type": "stream",
     "text": [
      "인덱스 0의 값은 1\n",
      "인덱스 1의 값은 4\n",
      "인덱스 2의 값은 9\n",
      "인덱스 3의 값은 16\n",
      "인덱스 4의 값은 25\n",
      "인덱스 5의 값은 36\n",
      "인덱스 6의 값은 49\n",
      "인덱스 7의 값은 64\n",
      "인덱스 8의 값은 81\n",
      "인덱스 9의 값은 100\n"
     ]
    }
   ],
   "source": [
    "for i, value in enumerate(squares):\n",
    "    print(\"인덱스 {}의 값은 {}\".format(i,value))"
   ]
  }
 ],
 "metadata": {
  "kernelspec": {
   "display_name": "Python 3",
   "language": "python",
   "name": "python3"
  },
  "language_info": {
   "codemirror_mode": {
    "name": "ipython",
    "version": 3
   },
   "file_extension": ".py",
   "mimetype": "text/x-python",
   "name": "python",
   "nbconvert_exporter": "python",
   "pygments_lexer": "ipython3",
   "version": "3.9.13"
  }
 },
 "nbformat": 4,
 "nbformat_minor": 5
}
