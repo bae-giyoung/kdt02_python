{
 "cells": [
  {
   "cell_type": "markdown",
   "id": "890295a6",
   "metadata": {},
   "source": [
    "1. 배열 생성 및 초기화"
   ]
  },
  {
   "cell_type": "code",
   "execution_count": 3,
   "id": "76775fd7",
   "metadata": {},
   "outputs": [
    {
     "name": "stdout",
     "output_type": "stream",
     "text": [
      "[]\n",
      "['trek', 'cannon', 'red', 'special']\n",
      "[0, 0, 0, 0, 0, 0, 0, 0, 0, 0]\n"
     ]
    }
   ],
   "source": [
    "arr = []\n",
    "print(arr)\n",
    "\n",
    "bicycles = ['trek','cannon','red','special']\n",
    "print(bicycles)\n",
    "\n",
    "zeros = [0]*10\n",
    "print(zeros)"
   ]
  },
  {
   "cell_type": "markdown",
   "id": "35c5c174",
   "metadata": {},
   "source": [
    "2. 인덱싱과 슬라이싱(데이터 추출)\n",
    "    슬라이싱: 새로운 배열을 반환"
   ]
  },
  {
   "cell_type": "code",
   "execution_count": 4,
   "id": "01c7e544",
   "metadata": {},
   "outputs": [
    {
     "name": "stdout",
     "output_type": "stream",
     "text": [
      "['cannon', 'red']\n"
     ]
    }
   ],
   "source": [
    "print(bicycles[1:3]) # 첫번째 시작 인덱스부터 두번째 인덱스 전까지"
   ]
  },
  {
   "cell_type": "code",
   "execution_count": 5,
   "id": "4c794a40",
   "metadata": {},
   "outputs": [
    {
     "name": "stdout",
     "output_type": "stream",
     "text": [
      "['trek', 'cannon', 'red', 'special']\n",
      "['cannon', 'red']\n",
      "['cannon']\n"
     ]
    }
   ],
   "source": [
    "print(bicycles)\n",
    "print(bicycles[1:-1]) # 1번부터 -1번\"전\"까지\n",
    "print(bicycles[1:-2]) # 1번부터 -2번\"전\"까지"
   ]
  },
  {
   "cell_type": "code",
   "execution_count": 6,
   "id": "c1e43566",
   "metadata": {},
   "outputs": [
    {
     "name": "stdout",
     "output_type": "stream",
     "text": [
      "Cannon\n",
      "Red\n"
     ]
    }
   ],
   "source": [
    "#반환되는것 잘 체크\n",
    "print(bicycles[1].title()) # 요소(여기선 String)를 반환\n",
    "print(bicycles[-2].title())\n",
    "\n",
    "#print(bicycles[1:-2].title()) # 배열을 반환해서 .title()메소드 사용 불가 : 그래서 Error"
   ]
  },
  {
   "cell_type": "markdown",
   "id": "c93e5e40",
   "metadata": {},
   "source": [
    "3. 요소 의 수정과 삭제"
   ]
  },
  {
   "cell_type": "code",
   "execution_count": 7,
   "id": "b96ad32d",
   "metadata": {},
   "outputs": [
    {
     "name": "stdout",
     "output_type": "stream",
     "text": [
      "['삼천리', 'cannon', 'red', 'special']\n",
      "['삼천리', 'cannon', 'red', 'special', '산악자전거']\n",
      "['삼천리', '현대', 'cannon', 'red', 'special', '산악자전거']\n",
      "['삼천리', 'cannon', 'red', 'special', '산악자전거']\n",
      "pop()한 요소: 산악자전거\n",
      "['삼천리', 'cannon', 'red', 'special']\n",
      "['삼천리', 'cannon', 'special']\n"
     ]
    },
    {
     "ename": "ValueError",
     "evalue": "list.remove(x): x not in list",
     "output_type": "error",
     "traceback": [
      "\u001b[1;31m---------------------------------------------------------------------------\u001b[0m",
      "\u001b[1;31mValueError\u001b[0m                                Traceback (most recent call last)",
      "Cell \u001b[1;32mIn[7], line 20\u001b[0m\n\u001b[0;32m     17\u001b[0m bicycles\u001b[38;5;241m.\u001b[39mremove(\u001b[38;5;124m'\u001b[39m\u001b[38;5;124mred\u001b[39m\u001b[38;5;124m'\u001b[39m) \u001b[38;5;66;03m# 값으로 삭제, 반환값 없음\u001b[39;00m\n\u001b[0;32m     18\u001b[0m \u001b[38;5;28mprint\u001b[39m(bicycles)\n\u001b[1;32m---> 20\u001b[0m \u001b[43mbicycles\u001b[49m\u001b[38;5;241;43m.\u001b[39;49m\u001b[43mremove\u001b[49m\u001b[43m(\u001b[49m\u001b[38;5;124;43m'\u001b[39;49m\u001b[38;5;124;43mnodata\u001b[39;49m\u001b[38;5;124;43m'\u001b[39;49m\u001b[43m)\u001b[49m \u001b[38;5;66;03m# 없는 요소를 삭제할 때 에러 메세지 확인 -> Error: ValueError: list.remove(x): x not in list\u001b[39;00m\n",
      "\u001b[1;31mValueError\u001b[0m: list.remove(x): x not in list"
     ]
    }
   ],
   "source": [
    "bicycles[0] = '삼천리'\n",
    "print(bicycles)\n",
    "\n",
    "bicycles.append('산악자전거')\n",
    "print(bicycles)\n",
    "\n",
    "bicycles.insert(1, '현대')\n",
    "print(bicycles)\n",
    "\n",
    "del bicycles[1] # 1이 현대\n",
    "print(bicycles)\n",
    "\n",
    "bike = bicycles.pop() # 마지막 요소 삭제, 반환값은 삭제한 요소\n",
    "print(f\"pop()한 요소: {bike}\")\n",
    "print(bicycles)\n",
    "\n",
    "bicycles.remove('red') # 값으로 삭제, 반환값 없음\n",
    "print(bicycles)\n",
    "\n",
    "bicycles.remove('nodata') # 없는 요소를 삭제할 때 에러 메세지 확인 -> Error: ValueError: list.remove(x): x not in list"
   ]
  },
  {
   "cell_type": "markdown",
   "id": "6ba5617a",
   "metadata": {},
   "source": [
    "4. 리스트 정렬"
   ]
  },
  {
   "cell_type": "code",
   "execution_count": null,
   "id": "331c10f0",
   "metadata": {},
   "outputs": [
    {
     "name": "stdout",
     "output_type": "stream",
     "text": [
      "['benz', 'bmw', 'k5', 'sorento', 'zenesis']\n",
      "['benz', 'bmw', 'k5', 'sorento', 'zenesis']\n"
     ]
    }
   ],
   "source": [
    "cars = ['bmw','zenesis','sorento','k5','benz']\n",
    "\n",
    "# 리스트 자체를 정렬하는 .sort() -> 메소드 (메소드이므로 정렬 권한이 있다)\n",
    "cars.sort()\n",
    "print(cars)\n",
    "\n",
    "# 리스트 자체를 정렬하지는 않고 정렬된 결과만 출력 .sorted() -> 메소드가 아니고 라이브러리 함수\n",
    "print(sorted(cars)) # sorted(list)의 반환값이 정렬된 것처럼 보이는 list결과"
   ]
  },
  {
   "cell_type": "code",
   "execution_count": 13,
   "id": "b075dc7c",
   "metadata": {},
   "outputs": [
    {
     "name": "stdout",
     "output_type": "stream",
     "text": [
      "['benz', 'bmw', 'k5', 'sorento', 'zenesis']\n",
      "['zenesis', 'sorento', 'k5', 'bmw', 'benz']\n"
     ]
    }
   ],
   "source": [
    "# 역순 정렬\n",
    "cars.reverse()\n",
    "print(cars)\n",
    "\n",
    "cars.sort(reverse=True)\n",
    "print(cars)"
   ]
  },
  {
   "cell_type": "markdown",
   "id": "abc58e94",
   "metadata": {},
   "source": [
    "5. 리스트 길이 확인"
   ]
  },
  {
   "cell_type": "code",
   "execution_count": 14,
   "id": "e4477b30",
   "metadata": {},
   "outputs": [
    {
     "name": "stdout",
     "output_type": "stream",
     "text": [
      "5\n"
     ]
    }
   ],
   "source": [
    "print(len(cars))"
   ]
  },
  {
   "cell_type": "markdown",
   "id": "e6746823",
   "metadata": {},
   "source": [
    "6. 리스트 순회하기"
   ]
  },
  {
   "cell_type": "code",
   "execution_count": null,
   "id": "4547d1f8",
   "metadata": {},
   "outputs": [
    {
     "name": "stdout",
     "output_type": "stream",
     "text": [
      "['zenesis', 'sorento', 'k5', 'bmw', 'benz']\n",
      "차 이름은 zenesis\n",
      "['zenesis', 'sorento', 'k5', 'bmw', 'benz']\n",
      "차 이름은 sorento\n",
      "['zenesis', 'sorento', 'k5', 'bmw', 'benz']\n",
      "차 이름은 k5\n",
      "['zenesis', 'sorento', 'k5', 'bmw', 'benz']\n",
      "차 이름은 bmw\n",
      "['zenesis', 'sorento', 'k5', 'bmw', 'benz']\n",
      "차 이름은 benz\n",
      "['zenesis', 'sorento', 'k5', 'bmw', 'benz']\n"
     ]
    }
   ],
   "source": [
    "print(cars)\n",
    "\n",
    "#for loop -> 자바의 확장형 for문과 유사...\n",
    "#loop block의 시작과 끝 -> :(콜론)에서 마지막 들여쓰기 문장까지\n",
    "#들여쓴 문장은 모두 loop block으로 간주한다!\n",
    "for car in cars:\n",
    "    print(f\"차 이름은 {car}\")\n",
    "    print(cars)\n",
    "print(\"성공적으로 종료\")"
   ]
  },
  {
   "cell_type": "markdown",
   "id": "827fa040",
   "metadata": {},
   "source": [
    "7. range() + list()"
   ]
  },
  {
   "cell_type": "code",
   "execution_count": null,
   "id": "3d1e1109",
   "metadata": {},
   "outputs": [
    {
     "name": "stdout",
     "output_type": "stream",
     "text": [
      "range(1, 6)\n",
      "1\n",
      "2\n",
      "3\n",
      "4\n",
      "5\n"
     ]
    }
   ],
   "source": [
    "lst = range(1,6) # range Object: 1부터 6이전까지\n",
    "print(lst)\n",
    "\n",
    "for value in lst:\n",
    "    print(value)"
   ]
  },
  {
   "cell_type": "code",
   "execution_count": 33,
   "id": "33813398",
   "metadata": {},
   "outputs": [
    {
     "name": "stdout",
     "output_type": "stream",
     "text": [
      "[2, 4, 6, 8, 10]\n",
      "[1, 3, 5, 7, 9]\n"
     ]
    }
   ],
   "source": [
    "lst2 = list(range(2,11,2)) # step\n",
    "print(lst2)\n",
    "\n",
    "lst3 = list(range(1,11,2))\n",
    "print(lst3)"
   ]
  }
 ],
 "metadata": {
  "kernelspec": {
   "display_name": "Python 3",
   "language": "python",
   "name": "python3"
  },
  "language_info": {
   "codemirror_mode": {
    "name": "ipython",
    "version": 3
   },
   "file_extension": ".py",
   "mimetype": "text/x-python",
   "name": "python",
   "nbconvert_exporter": "python",
   "pygments_lexer": "ipython3",
   "version": "3.9.13"
  }
 },
 "nbformat": 4,
 "nbformat_minor": 5
}
