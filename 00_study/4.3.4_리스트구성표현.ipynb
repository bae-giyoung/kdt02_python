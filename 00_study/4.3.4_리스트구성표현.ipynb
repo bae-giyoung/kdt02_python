{
 "cells": [
  {
   "cell_type": "markdown",
   "metadata": {},
   "source": [
    "4.3.4 list comprehension\n",
    "- 파이썬에서의 list comprehension은 **\"리스트를 구성하기 위한 문법적 표현\"**이라는 의미\n",
    "- comprehension: to contain or hold within a total scope, significance\n",
    "- 문맥상 의미: 포괄적 표현 / 축약된 구성 표현\n",
    "- \"주어진 조건이나 규칙을 바탕으로 리스트를 포괄적으로 생성하는 방법\"\n",
    "- 리스트 구성 표현이 적합한 번역임 > 조건/규칙 기반으로 리스트를 생성하는 축약 표현.\n",
    "\n"
   ]
  },
  {
   "cell_type": "code",
   "execution_count": 2,
   "metadata": {},
   "outputs": [],
   "source": [
    "squares = [x**2 for x in range(5)]  # list comprehension\n",
    "# x**2이라는 규칙을 바탕으로 리스트를 “포괄적으로 이해하고 생성”하는 구조"
   ]
  },
  {
   "cell_type": "code",
   "execution_count": 3,
   "metadata": {},
   "outputs": [
    {
     "name": "stdout",
     "output_type": "stream",
     "text": [
      "range(0, 10)\n",
      "<class 'list'>\n",
      "<class 'range'>\n"
     ]
    }
   ],
   "source": [
    "# 실습과제2_4장리스트for 문\n",
    "rng = range(10)\n",
    "print(rng)\n",
    "## range(10)은 range 객체로, 이는 0부터 9까지의 숫자를 생성하는 반복 가능한(iterable) 객체입니다.\n",
    "l = [1,2,3]\n",
    "print(type(l))\n",
    "print(type(rng))"
   ]
  },
  {
   "cell_type": "code",
   "execution_count": 8,
   "metadata": {},
   "outputs": [
    {
     "name": "stdout",
     "output_type": "stream",
     "text": [
      "[[0, 1, 2, 3, 4], [5, 6, 7, 8, 9], [10, 11, 12, 13, 14]]\n",
      "2차원 배열 (3x5):\n",
      "[0, 1, 2, 3, 4]\n",
      "[5, 6, 7, 8, 9]\n",
      "[10, 11, 12, 13, 14]\n",
      "\n",
      "첫 번째 열: [0, 5, 10]\n",
      "첫 번째 행: [0, 1, 2, 3, 4]\n",
      "첫 번째 행의 앞 3개 요소: [0, 1, 2]\n"
     ]
    }
   ],
   "source": [
    "# (3, 5) 크기의 2차원 배열 생성: 3행 5열\n",
    "tup = (3, 5)\n",
    "rows, cols = tup # unpacking이라고 부른다\n",
    "\n",
    "# 리스트 컴프리헨션과 range()를 사용하여 2차원 배열 만들기\n",
    "matrix = [[i + j*cols for i in range(cols)] for j in range(rows)]\n",
    "print(matrix)\n",
    "\n",
    "# 2차원 배열 출력\n",
    "print(\"2차원 배열 (3x5):\")\n",
    "for row in matrix:\n",
    "    print(row)\n",
    "\n",
    "# 리스트 슬라이싱: 첫 번째 열만 출력\n",
    "first_column = [row[0] for row in matrix]\n",
    "print(\"\\n첫 번째 열:\", first_column)\n",
    "\n",
    "# 리스트 슬라이싱: 첫 번째 행만 출력\n",
    "first_row = matrix[0]\n",
    "print(\"첫 번째 행:\", first_row)\n",
    "\n",
    "# 리스트 슬라이싱: 첫 번째 행의 앞 3개 요소만 슬라이싱\n",
    "first_row_sliced = first_row[:3]\n",
    "print(\"첫 번째 행의 앞 3개 요소:\", first_row_sliced)"
   ]
  },
  {
   "cell_type": "code",
   "execution_count": null,
   "metadata": {},
   "outputs": [
    {
     "name": "stdout",
     "output_type": "stream",
     "text": [
      "[0, 1, 2, 3, 4, 5, 6, 7, 8, 9, 10]\n",
      "[99, 9, 8, 7, 6, 5, 4, 3, 2, 1, 0]\n",
      "[0, 1, 2, 3, 4, 5, 6, 7, 8, 9, 10]\n",
      "[11, 1, 2, 3, 4, 5, 6, 7, 8, 9, 10]\n"
     ]
    }
   ],
   "source": [
    "# 리스트[start:stop:step]\n",
    "# start: 시작 인덱스 (포함)\n",
    "# stop: 끝 인덱스 (포함되지 않음)\n",
    "# step: 인덱스 증가 값 (기본값은 1), 음수이면 반대 방향!\n",
    "numbers = list(range(11))\n",
    "print(numbers)\n",
    "# 리스트를 뒤집기\n",
    "reversed_list = numbers[::-1]\n",
    "reversed_list[0] = 99\n",
    "print(reversed_list)\n",
    "print(numbers) # 원본은 변하지 않음\n",
    "numbers2 = numbers # 참조 변수가 같은 리스트를 가리키고 있다\n",
    "numbers2[0] = 11 # 원본을 수정\n",
    "print(numbers)"
   ]
  },
  {
   "cell_type": "code",
   "execution_count": 13,
   "metadata": {},
   "outputs": [
    {
     "name": "stdout",
     "output_type": "stream",
     "text": [
      "[[], [], [], [], []]\n",
      "[[1, 2, 3, 4, 5, 6, 7, 8], [9, 10, 11, 12, 13, 14, 15, 16], [17, 18, 19, 20, 21, 22, 23, 24], [25, 26, 27, 28, 29, 30, 31, 32], [33, 34, 35, 36, 37, 38, 39, 40]]\n"
     ]
    }
   ],
   "source": [
    "array = [[] for i in range(5)]\n",
    "print(array)\n",
    "\n",
    "for i in range(5):  \n",
    "    for j in range(1, 9):  \n",
    "        array[i].append(j+8*i)  \n",
    "\n",
    "print(array)"
   ]
  },
  {
   "cell_type": "code",
   "execution_count": null,
   "metadata": {},
   "outputs": [
    {
     "name": "stdout",
     "output_type": "stream",
     "text": [
      "[[96, 52, 85, 25, 9, 42, 12], [14, 26, 71, 22, 89, 23, 41], [0, 18, 72, 47, 72, 95, 13], [38, 86, 15, 29, 79, 54, 63], [10, 71, 89, 94, 20, 29, 58]]\n",
      "원본 행렬:\n",
      "[96, 52, 85, 25, 9, 42, 12]\n",
      "[14, 26, 71, 22, 89, 23, 41]\n",
      "[0, 18, 72, 47, 72, 95, 13]\n",
      "[38, 86, 15, 29, 79, 54, 63]\n",
      "[10, 71, 89, 94, 20, 29, 58]\n",
      "\n",
      "결과 행렬 (최대 값부터 3번째 큰 값까지):\n",
      "[96, 85, 52]\n",
      "[89, 71, 41]\n",
      "[95, 72, 72]\n",
      "[86, 79, 63]\n",
      "[94, 89, 71]\n"
     ]
    }
   ],
   "source": [
    "import random\n",
    "\n",
    "# 행렬의 크기 정의 (5x7 행렬)\n",
    "rows, cols = 5, 7\n",
    "\n",
    "# 2차원 행렬을 난수로 초기화\n",
    "matrix = [[random.randint(0, 100) for _ in range(cols)] for _ in range(rows)] # _는 익명 변수\n",
    "\n",
    "# 행렬 출력\n",
    "print(matrix) # 한 줄로 나오기 때문에 각 row를 출력하게 변경\n",
    "\n",
    "print(\"원본 행렬:\")\n",
    "for row in matrix:\n",
    "    print(row)\n",
    "\n",
    "# 각 행에서 최대 값부터 3번째 큰 값까지 순서대로 행렬 만들기\n",
    "result_matrix = []\n",
    "\n",
    "for row in matrix:\n",
    "    # 행을 정렬하여 최대 값부터 작은 값으로 정렬\n",
    "    sorted_row = sorted(row, reverse=True)\n",
    "    \n",
    "    # 최대 값부터 3번째 큰 값까지 가져오기\n",
    "    top_three = sorted_row[:3]\n",
    "    \n",
    "    # 3개 값이 아닌 경우 None으로 채우기\n",
    "    while len(top_three) < 3:\n",
    "        top_three.append(None)\n",
    "    \n",
    "    # 결과 행렬에 추가\n",
    "    result_matrix.append(top_three)\n",
    "\n",
    "# 결과 행렬 출력\n",
    "print(\"\\n결과 행렬 (최대 값부터 3번째 큰 값까지):\")\n",
    "for row in result_matrix:\n",
    "    print(row)\n"
   ]
  },
  {
   "cell_type": "markdown",
   "metadata": {},
   "source": []
  },
  {
   "cell_type": "code",
   "execution_count": 16,
   "metadata": {},
   "outputs": [
    {
     "name": "stdout",
     "output_type": "stream",
     "text": [
      "[70, 40, 25]\n",
      "[80, 50, 35]\n",
      "[90, 60, 45]\n",
      "[70, 80, 90]\n",
      "[40, 50, 60]\n",
      "[25, 35, 45]\n"
     ]
    }
   ],
   "source": [
    "# 예시 2차원 행렬\n",
    "matrix = [\n",
    "    [10, 20, 30],\n",
    "    [40, 50, 60],\n",
    "    [70, 80, 90],\n",
    "    [25, 35, 45],\n",
    "    [5, 15, 25]\n",
    "]\n",
    "\n",
    "# 각 열의 최대값 3개를 뽑는 list comprehension\n",
    "result_matrix = [sorted([row[col_idx] for row in matrix], reverse=True)[:3] for col_idx in range(len(matrix[0]))] # range(len(matrix[0])) -> 0~2를 요소로 가지는 range객체\n",
    "\n",
    "for row in result_matrix:\n",
    "    print(row)\n",
    "\n",
    "\n",
    "# 열을 행으로 변환 (list comprehension을 다시 사용)\n",
    "result_matrix = [list(row) for row in zip(*result_matrix)]\n",
    "\n",
    "# 결과 출력\n",
    "for row in result_matrix:\n",
    "    print(row)"
   ]
  },
  {
   "cell_type": "markdown",
   "metadata": {},
   "source": [
    "if 문이 포함된 list comprehension"
   ]
  },
  {
   "cell_type": "code",
   "execution_count": null,
   "metadata": {},
   "outputs": [
    {
     "name": "stdout",
     "output_type": "stream",
     "text": [
      "[0, 2, 4, 6, 8, 10]\n",
      "[0, 0, 2, 0, 4, 0, 6, 0, 8, 0, 10]\n"
     ]
    }
   ],
   "source": [
    "numbers = list(range(11))\n",
    "lst = [n for n in numbers if n%2 == 0] # if문이 뒤에 있는것과\n",
    "print(lst)\n",
    "lst2 = [n if n%2 == 0 else 0 for n in numbers] # if문이 앞에 있는것 잘 구분!\n",
    "print(lst2)"
   ]
  },
  {
   "cell_type": "code",
   "execution_count": 23,
   "metadata": {},
   "outputs": [
    {
     "name": "stdout",
     "output_type": "stream",
     "text": [
      "['happy', 'birthday']\n"
     ]
    }
   ],
   "source": [
    "words = [\"good\",\"nice\", \"the\", \"happy\", \"birthday\"]\n",
    "long_word = [w for w in words if len(w) >= 5]\n",
    "print(long_word)"
   ]
  }
 ],
 "metadata": {
  "kernelspec": {
   "display_name": "Python 3",
   "language": "python",
   "name": "python3"
  },
  "language_info": {
   "codemirror_mode": {
    "name": "ipython",
    "version": 3
   },
   "file_extension": ".py",
   "mimetype": "text/x-python",
   "name": "python",
   "nbconvert_exporter": "python",
   "pygments_lexer": "ipython3",
   "version": "3.9.13"
  }
 },
 "nbformat": 4,
 "nbformat_minor": 2
}
