{
 "cells": [
  {
   "cell_type": "code",
   "execution_count": 1,
   "id": "21f66aef",
   "metadata": {},
   "outputs": [
    {
     "data": {
      "text/plain": [
       "3"
      ]
     },
     "execution_count": 1,
     "metadata": {},
     "output_type": "execute_result"
    }
   ],
   "source": [
    "1+2"
   ]
  },
  {
   "cell_type": "code",
   "execution_count": 2,
   "id": "6db64d78",
   "metadata": {},
   "outputs": [
    {
     "name": "stdout",
     "output_type": "stream",
     "text": [
      "Python 3.9.13\n"
     ]
    }
   ],
   "source": [
    "!python --version"
   ]
  },
  {
   "cell_type": "code",
   "execution_count": null,
   "id": "352f487c",
   "metadata": {},
   "outputs": [
    {
     "name": "stdout",
     "output_type": "stream",
     "text": [
      "Help on built-in function log in module math:\n",
      "\n",
      "log(...)\n",
      "    log(x, [base=math.e])\n",
      "    Return the logarithm of x to the given base.\n",
      "    \n",
      "    If the base not specified, returns the natural logarithm (base e) of x.\n",
      "\n"
     ]
    },
    {
     "ename": "TypeError",
     "evalue": "math.log requires 1 to 2 arguments",
     "output_type": "error",
     "traceback": [
      "\u001b[1;31m---------------------------------------------------------------------------\u001b[0m",
      "\u001b[1;31mTypeError\u001b[0m                                 Traceback (most recent call last)",
      "Cell \u001b[1;32mIn[16], line 12\u001b[0m\n\u001b[0;32m      8\u001b[0m \u001b[38;5;28mdir\u001b[39m(math)\n\u001b[0;32m     10\u001b[0m help(math\u001b[38;5;241m.\u001b[39mlog)\n\u001b[1;32m---> 12\u001b[0m \u001b[43mmath\u001b[49m\u001b[38;5;241;43m.\u001b[39;49m\u001b[43mlog\u001b[49m\u001b[43m(\u001b[49m\u001b[43m)\u001b[49m\n",
      "\u001b[1;31mTypeError\u001b[0m: math.log requires 1 to 2 arguments"
     ]
    }
   ],
   "source": [
    "abs(-1)\n",
    "ascii(65)\n",
    "chr(65)\n",
    "bin(3)\n",
    "dir(range)\n",
    "\n",
    "import math\n",
    "dir(math)\n",
    "\n",
    "help(math.log)\n"
   ]
  },
  {
   "cell_type": "code",
   "execution_count": null,
   "id": "28c7f821",
   "metadata": {},
   "outputs": [
    {
     "data": {
      "text/plain": [
       "(2, 286, (57, 2))"
      ]
     },
     "execution_count": 19,
     "metadata": {},
     "output_type": "execute_result"
    }
   ],
   "source": [
    "572 % 10, 572 // 2, divmod(572, 10)\n",
    "enumerate()"
   ]
  },
  {
   "cell_type": "code",
   "execution_count": 21,
   "id": "d259c1ad",
   "metadata": {},
   "outputs": [
    {
     "name": "stdout",
     "output_type": "stream",
     "text": [
      "(0, 0)\n",
      "(1, 1)\n",
      "(2, 2)\n",
      "(3, 3)\n",
      "(4, 4)\n",
      "(5, 5)\n",
      "(6, 6)\n",
      "(7, 7)\n",
      "(8, 8)\n",
      "(9, 9)\n"
     ]
    }
   ],
   "source": [
    "for i in enumerate(list(range(10))):\n",
    "    print(i)"
   ]
  },
  {
   "cell_type": "code",
   "execution_count": 24,
   "id": "2322d30b",
   "metadata": {},
   "outputs": [
    {
     "name": "stdout",
     "output_type": "stream",
     "text": [
      "2\n",
      "3\n",
      "4\n",
      "5\n",
      "6\n",
      "7\n",
      "8\n",
      "9\n",
      "10\n"
     ]
    },
    {
     "ename": "IndexError",
     "evalue": "list index out of range",
     "output_type": "error",
     "traceback": [
      "\u001b[1;31m---------------------------------------------------------------------------\u001b[0m",
      "\u001b[1;31mIndexError\u001b[0m                                Traceback (most recent call last)",
      "Cell \u001b[1;32mIn[24], line 4\u001b[0m\n\u001b[0;32m      1\u001b[0m data \u001b[38;5;241m=\u001b[39m \u001b[38;5;28mlist\u001b[39m(\u001b[38;5;28mrange\u001b[39m(\u001b[38;5;241m1\u001b[39m,\u001b[38;5;241m11\u001b[39m))\n\u001b[0;32m      3\u001b[0m \u001b[38;5;28;01mfor\u001b[39;00m i \u001b[38;5;129;01min\u001b[39;00m data:\n\u001b[1;32m----> 4\u001b[0m     \u001b[38;5;28mprint\u001b[39m(\u001b[43mdata\u001b[49m\u001b[43m[\u001b[49m\u001b[43mi\u001b[49m\u001b[43m]\u001b[49m)\n",
      "\u001b[1;31mIndexError\u001b[0m: list index out of range"
     ]
    }
   ],
   "source": [
    "data = list(range(1,11))\n",
    "\n",
    "for i in data:\n",
    "    print(data[i])"
   ]
  },
  {
   "cell_type": "code",
   "execution_count": 26,
   "id": "bc5673ee",
   "metadata": {},
   "outputs": [
    {
     "data": {
      "text/plain": [
       "6"
      ]
     },
     "execution_count": 26,
     "metadata": {},
     "output_type": "execute_result"
    }
   ],
   "source": [
    "inp = input().split() #1 2 3\n",
    "a, b, c = inp\n",
    "a, b, c = int(a), int(b), int(c)\n",
    "a+b+c"
   ]
  },
  {
   "cell_type": "code",
   "execution_count": 31,
   "id": "3655f7da",
   "metadata": {},
   "outputs": [
    {
     "data": {
      "text/plain": [
       "6"
      ]
     },
     "execution_count": 31,
     "metadata": {},
     "output_type": "execute_result"
    }
   ],
   "source": [
    "sum(list(map(int, input().split()))) #['1', '2', '3']"
   ]
  },
  {
   "cell_type": "code",
   "execution_count": 37,
   "id": "085a11ee",
   "metadata": {},
   "outputs": [
    {
     "data": {
      "text/plain": [
       "[1, 3]"
      ]
     },
     "execution_count": 37,
     "metadata": {},
     "output_type": "execute_result"
    }
   ],
   "source": [
    "data= [1,2,3]\n",
    "data1 = ['1', '2', '3', '4', '5']\n",
    "data1 = list(map(int,data))\n",
    "\n",
    "even = lambda x: x % 2 != 0\n",
    "data = list(filter(even, data1))\n",
    "data\n"
   ]
  },
  {
   "cell_type": "code",
   "execution_count": 38,
   "id": "3883fea3",
   "metadata": {},
   "outputs": [
    {
     "data": {
      "text/plain": [
       "4"
      ]
     },
     "execution_count": 38,
     "metadata": {},
     "output_type": "execute_result"
    }
   ],
   "source": [
    "from functools import reduce\n",
    "from operator import add\n",
    "reduce(add, data, 0)"
   ]
  },
  {
   "cell_type": "code",
   "execution_count": 39,
   "id": "85538144",
   "metadata": {},
   "outputs": [
    {
     "data": {
      "text/plain": [
       "-3576892163589064983"
      ]
     },
     "execution_count": 39,
     "metadata": {},
     "output_type": "execute_result"
    }
   ],
   "source": [
    "hash('hello')"
   ]
  },
  {
   "cell_type": "code",
   "execution_count": 40,
   "id": "a11354c9",
   "metadata": {},
   "outputs": [],
   "source": [
    "d=dict()\n",
    "\n",
    "d['h'] = 5"
   ]
  },
  {
   "cell_type": "code",
   "execution_count": 43,
   "id": "e4e3815c",
   "metadata": {},
   "outputs": [
    {
     "name": "stdout",
     "output_type": "stream",
     "text": [
      "data [1, 2]\n",
      "d [1, 2]\n"
     ]
    },
    {
     "data": {
      "text/plain": [
       "[1, 2, 3]"
      ]
     },
     "execution_count": 43,
     "metadata": {},
     "output_type": "execute_result"
    }
   ],
   "source": [
    "def add(d):\n",
    "    print('d',d)\n",
    "    d.append(3)\n",
    "    \n",
    "data = [1,2]\n",
    "print('data', data)\n",
    "add(data)\n",
    "\n",
    "data"
   ]
  },
  {
   "cell_type": "code",
   "execution_count": 46,
   "id": "c2ccbff5",
   "metadata": {},
   "outputs": [
    {
     "data": {
      "text/plain": [
       "(0, 1, 2, 3, 4)"
      ]
     },
     "execution_count": 46,
     "metadata": {},
     "output_type": "execute_result"
    }
   ],
   "source": [
    "r = range(5)\n",
    "ri = iter(r)\n",
    "next(ri),next(ri),next(ri),next(ri),next(ri)"
   ]
  },
  {
   "cell_type": "code",
   "execution_count": 48,
   "id": "a1fc5bf2",
   "metadata": {},
   "outputs": [
    {
     "data": {
      "text/plain": [
       "0"
      ]
     },
     "execution_count": 48,
     "metadata": {},
     "output_type": "execute_result"
    }
   ],
   "source": [
    "ri2 = iter(r)\n",
    "next(ri2)"
   ]
  },
  {
   "cell_type": "code",
   "execution_count": 58,
   "id": "57ec20d8",
   "metadata": {},
   "outputs": [],
   "source": [
    "class Range:\n",
    "    def __init__(self, n):\n",
    "        self.n = n\n",
    "        self.current = 0\n",
    "    def __iter__ (self):\n",
    "        return self\n",
    "    def __next__(self):\n",
    "        if self.current < self.n:\n",
    "            return_value = self.current\n",
    "            self.current += 1\n",
    "            return return_value\n",
    "        raise StopIteration()\n",
    "    \n",
    "    def __str__(self):\n",
    "        return str('Range class')\n",
    "    \n",
    "    def __repr__(self):\n",
    "        return self.__repr__(r)\n",
    "    \n",
    "        "
   ]
  },
  {
   "cell_type": "code",
   "execution_count": 50,
   "id": "45dda488",
   "metadata": {},
   "outputs": [
    {
     "data": {
      "text/plain": [
       "(0, 1, 2, 3, 4)"
      ]
     },
     "execution_count": 50,
     "metadata": {},
     "output_type": "execute_result"
    }
   ],
   "source": [
    "r = range(5)\n",
    "ri = iter(r)\n",
    "next(ri),next(ri),next(ri),next(ri),next(ri)"
   ]
  },
  {
   "cell_type": "code",
   "execution_count": 59,
   "id": "aa234836",
   "metadata": {},
   "outputs": [
    {
     "name": "stdout",
     "output_type": "stream",
     "text": [
      "range(0, 5)\n"
     ]
    }
   ],
   "source": [
    "print(r)"
   ]
  },
  {
   "cell_type": "code",
   "execution_count": 61,
   "id": "48095506",
   "metadata": {},
   "outputs": [
    {
     "name": "stdout",
     "output_type": "stream",
     "text": [
      "1\n",
      "\n",
      "2\n",
      "\n",
      "3\n",
      "\n"
     ]
    }
   ],
   "source": [
    "with open('data.txt', 'r') as f:\n",
    "    for i in f:\n",
    "        print(i)"
   ]
  },
  {
   "cell_type": "code",
   "execution_count": 62,
   "id": "9cef2ab6",
   "metadata": {},
   "outputs": [
    {
     "data": {
      "text/plain": [
       "8"
      ]
     },
     "execution_count": 62,
     "metadata": {},
     "output_type": "execute_result"
    }
   ],
   "source": [
    "2**3"
   ]
  },
  {
   "cell_type": "code",
   "execution_count": 67,
   "id": "a5d316e1",
   "metadata": {},
   "outputs": [
    {
     "data": {
      "text/plain": [
       "310.0"
      ]
     },
     "execution_count": 67,
     "metadata": {},
     "output_type": "execute_result"
    }
   ],
   "source": [
    "round(3.14)\n",
    "round(3.14,1)\n",
    "round(314.1592, -1)"
   ]
  },
  {
   "cell_type": "code",
   "execution_count": 70,
   "id": "d60c0a93",
   "metadata": {},
   "outputs": [
    {
     "data": {
      "text/plain": [
       "{1}"
      ]
     },
     "execution_count": 70,
     "metadata": {},
     "output_type": "execute_result"
    }
   ],
   "source": [
    "A = set([1,2,3])\n",
    "B = set([2,3,5])\n",
    "\n",
    "A.union(B)\n",
    "A.intersection(B)\n",
    "A.difference(B)"
   ]
  },
  {
   "cell_type": "code",
   "execution_count": 71,
   "id": "104a4bf4",
   "metadata": {},
   "outputs": [
    {
     "data": {
      "text/plain": [
       "[1, 2, 3]"
      ]
     },
     "execution_count": 71,
     "metadata": {},
     "output_type": "execute_result"
    }
   ],
   "source": [
    "sorted([2,1,3])"
   ]
  },
  {
   "cell_type": "code",
   "execution_count": 72,
   "id": "8cf7378f",
   "metadata": {},
   "outputs": [
    {
     "data": {
      "text/plain": [
       "[3, 2, 1]"
      ]
     },
     "execution_count": 72,
     "metadata": {},
     "output_type": "execute_result"
    }
   ],
   "source": [
    "sorted([2,1,3],reverse=True)"
   ]
  },
  {
   "cell_type": "code",
   "execution_count": 77,
   "id": "8112cfd3",
   "metadata": {},
   "outputs": [
    {
     "data": {
      "text/plain": [
       "[('b', 5), ('c', 3), ('a', 1)]"
      ]
     },
     "execution_count": 77,
     "metadata": {},
     "output_type": "execute_result"
    }
   ],
   "source": [
    "d = {'b':5,\n",
    "     'a':1,\n",
    "     'c':3}\n",
    "\n",
    "sorted(d)\n",
    "sorted(d.items())\n",
    "sorted(d.items(), key=lambda x :x[1])\n",
    "sorted(d.items(), key=lambda x :x[1], reverse=True)"
   ]
  },
  {
   "cell_type": "code",
   "execution_count": 78,
   "id": "189efb72",
   "metadata": {},
   "outputs": [
    {
     "data": {
      "text/plain": [
       "[(1, -1), (1, 1), (1, 2)]"
      ]
     },
     "execution_count": 78,
     "metadata": {},
     "output_type": "execute_result"
    }
   ],
   "source": [
    "sorted([(1,2),(1,-1),(1,1)])"
   ]
  },
  {
   "cell_type": "code",
   "execution_count": 81,
   "id": "cdd79c41",
   "metadata": {},
   "outputs": [
    {
     "data": {
      "text/plain": [
       "[(1, 'a'), (2, 'b'), (3, 'c')]"
      ]
     },
     "execution_count": 81,
     "metadata": {},
     "output_type": "execute_result"
    }
   ],
   "source": [
    "a=[1,2,3]\n",
    "b=['a', 'b', 'c']\n",
    "\n",
    "zip(a, b)\n",
    "str(zip(a,b))\n",
    "list(zip(a,b))"
   ]
  },
  {
   "cell_type": "code",
   "execution_count": 82,
   "id": "cbf45f6b",
   "metadata": {},
   "outputs": [
    {
     "name": "stdout",
     "output_type": "stream",
     "text": [
      "1 a\n",
      "2 b\n",
      "3 c\n"
     ]
    }
   ],
   "source": [
    "for i , j in zip(a,b):\n",
    "    print(i, j)"
   ]
  },
  {
   "cell_type": "code",
   "execution_count": 88,
   "id": "3eb81a9a",
   "metadata": {},
   "outputs": [],
   "source": [
    "##class inheritance\n",
    "\n",
    "class Number:\n",
    "    def __init__(self, n):\n",
    "        self.n = n\n",
    "        \n",
    "    \n",
    "    def __add__(self, other):\n",
    "        return Number(self.n + other.n)\n",
    "    \n",
    "    def __str__(self):\n",
    "        return str(self.n)\n",
    "    \n",
    "    def __repr__(self):\n",
    "        return self.__str__()"
   ]
  },
  {
   "cell_type": "code",
   "execution_count": 89,
   "id": "ef414d1d",
   "metadata": {},
   "outputs": [
    {
     "data": {
      "text/plain": [
       "15"
      ]
     },
     "execution_count": 89,
     "metadata": {},
     "output_type": "execute_result"
    }
   ],
   "source": [
    "n1 = Number(5)\n",
    "n2 = Number(10)\n",
    "\n",
    "n1 + n2"
   ]
  },
  {
   "cell_type": "code",
   "execution_count": 90,
   "id": "f01954e3",
   "metadata": {},
   "outputs": [
    {
     "data": {
      "text/plain": [
       "3"
      ]
     },
     "execution_count": 90,
     "metadata": {},
     "output_type": "execute_result"
    }
   ],
   "source": [
    "1+2"
   ]
  },
  {
   "cell_type": "code",
   "execution_count": 91,
   "id": "27d2574c",
   "metadata": {},
   "outputs": [],
   "source": [
    "class EvenNumber(Number):\n",
    "    def __init__(self, n):\n",
    "        super().__init__(n)\n",
    "        if self.n % 2 != 0:\n",
    "            self.n = self.n + self.n"
   ]
  },
  {
   "cell_type": "code",
   "execution_count": 94,
   "id": "11491482",
   "metadata": {},
   "outputs": [
    {
     "name": "stdout",
     "output_type": "stream",
     "text": [
      "10\n"
     ]
    },
    {
     "data": {
      "text/plain": [
       "20"
      ]
     },
     "execution_count": 94,
     "metadata": {},
     "output_type": "execute_result"
    }
   ],
   "source": [
    "n1 = EvenNumber(5)\n",
    "n2 = EvenNumber(10)\n",
    "print(n1)\n",
    "n1 + n2 #20"
   ]
  },
  {
   "cell_type": "code",
   "execution_count": 95,
   "id": "cef7ba3a",
   "metadata": {},
   "outputs": [],
   "source": [
    "from abc import ABC, abstractmethod\n",
    "\n",
    "class Player(ABC):\n",
    "    def __init__(self):\n",
    "        super().__init__()\n",
    "        self.name = str()\n",
    "        \n",
    "    @abstractmethod\n",
    "    def run(self):\n",
    "        pass"
   ]
  },
  {
   "cell_type": "code",
   "execution_count": 101,
   "id": "9a4d3ed9",
   "metadata": {},
   "outputs": [],
   "source": [
    "class Sonny(Player):\n",
    "    def __init__(self):\n",
    "        super().__init__()\n",
    "        self.name = 'Sonny'\n",
    "    \n",
    "    def run(self):\n",
    "        print(\"Run!\")"
   ]
  },
  {
   "cell_type": "code",
   "execution_count": 103,
   "id": "8e452385",
   "metadata": {},
   "outputs": [
    {
     "ename": "TypeError",
     "evalue": "list.append() takes exactly one argument (0 given)",
     "output_type": "error",
     "traceback": [
      "\u001b[1;31m---------------------------------------------------------------------------\u001b[0m",
      "\u001b[1;31mTypeError\u001b[0m                                 Traceback (most recent call last)",
      "Cell \u001b[1;32mIn[103], line 4\u001b[0m\n\u001b[0;32m      1\u001b[0m a \u001b[38;5;241m=\u001b[39m Sonny()\n\u001b[0;32m      3\u001b[0m players \u001b[38;5;241m=\u001b[39m []\n\u001b[1;32m----> 4\u001b[0m \u001b[43mplayers\u001b[49m\u001b[38;5;241;43m.\u001b[39;49m\u001b[43mappend\u001b[49m\u001b[43m(\u001b[49m\u001b[43m)\u001b[49m\n",
      "\u001b[1;31mTypeError\u001b[0m: list.append() takes exactly one argument (0 given)"
     ]
    }
   ],
   "source": [
    "a = Sonny()\n",
    "\n",
    "players = []\n",
    "players.append()"
   ]
  },
  {
   "cell_type": "code",
   "execution_count": 99,
   "id": "686c7d30",
   "metadata": {},
   "outputs": [],
   "source": [
    "class Sum:\n",
    "    @staticmethod\n",
    "    def plus(data):\n",
    "        return sum(data)"
   ]
  },
  {
   "cell_type": "code",
   "execution_count": 100,
   "id": "af169ebb",
   "metadata": {},
   "outputs": [
    {
     "data": {
      "text/plain": [
       "15"
      ]
     },
     "execution_count": 100,
     "metadata": {},
     "output_type": "execute_result"
    }
   ],
   "source": [
    "Sum.plus([1,2,3,4,5])"
   ]
  }
 ],
 "metadata": {
  "kernelspec": {
   "display_name": "Python 3",
   "language": "python",
   "name": "python3"
  },
  "language_info": {
   "codemirror_mode": {
    "name": "ipython",
    "version": 3
   },
   "file_extension": ".py",
   "mimetype": "text/x-python",
   "name": "python",
   "nbconvert_exporter": "python",
   "pygments_lexer": "ipython3",
   "version": "3.9.13"
  }
 },
 "nbformat": 4,
 "nbformat_minor": 5
}
