{
  "cells": [
    {
      "cell_type": "markdown",
      "metadata": {
        "id": "VxRSbT3kVF0f"
      },
      "source": [
        "# 7. 10개의 음이 아닌 정수가 주어지면, 각 정수를 N로 나눈 나머지를 구한 뒤, 이 나머지들 중 서로 다른 값이 몇 개 있는지 계산하는 프로그램을 작성하세요.\n",
        "\n",
        "## 입력\n",
        "첫 번째 입력은 나누는 수 N이 주어집니다.\n",
        "다음 줄은 정수 10개가 주어집니다. 주어진 정수에는 음의 정수는 포함되지 않습니다.\n",
        "\n",
        "## 출력\n",
        "10개의 입력된 정수를 N로 나눈 나머지들 중 서로 다른 값의 개수를 출력하세요."
      ]
    },
    {
      "cell_type": "code",
      "execution_count": 51,
      "metadata": {
        "id": "d5nfvg6qWawn"
      },
      "outputs": [],
      "source": [
        "def count_distinct_remainders(N: int, numbers: list) -> int:\n",
        "    dic = dict()\n",
        "    for i in numbers:\n",
        "        dic[i % N] = dic.get(i % N, 0) + 1\n",
        "    return len(dic)\n",
        "\n",
        "\n",
        "input_data_remainders = [\n",
        "    (27, [1, 2, 3, 4, 5, 6, 7, 8, 9, 10]),\n",
        "    (36, [42, 84, 126, 168, 210, 252, 294, 336, 378, 420]),\n",
        "    (7, [39, 40, 41, 42, 43, 44, 82, 83, 84, 85]),\n",
        "    (33, [10, 20, 30, 40, 50, 60, 70, 80, 90, 100]),\n",
        "    (1, [1, 2, 3, 4, 5, 6, 7, 8, 9, 10]),\n",
        "]\n",
        "\n",
        "output_data_remainders = [\n",
        "    10, 6, 6, 10, 1,\n",
        "]\n",
        "\n",
        "for (N, numbers), expected_output in zip(input_data_remainders, output_data_remainders):\n",
        "    result = count_distinct_remainders(N, numbers)\n",
        "    assert result == expected_output, f\"Failed: N={N}, numbers={numbers}, expected={expected_output}, got={result}\""
      ]
    },
    {
      "cell_type": "markdown",
      "metadata": {
        "id": "7Zd7ozngX2XA"
      },
      "source": [
        "# 8. N개의 원소가 있는 리스트가 있으며, 왼쪽부터 1번부터 N번까지 번호가 매겨져 있습니다. 주어진 M개의 연산을 수행해야 하며, 각 연산은 지정된 구간 [i, j]의 리스트 원소의 순서를 역순으로 뒤집습니다. 모든 연산을 수행한 후, 리스트의 최종 순서를 출력하세요."
      ]
    },
    {
      "cell_type": "code",
      "execution_count": 53,
      "metadata": {},
      "outputs": [
        {
          "data": {
            "text/plain": [
              "[5, 4, 3, 2, 1]"
            ]
          },
          "execution_count": 53,
          "metadata": {},
          "output_type": "execute_result"
        }
      ],
      "source": [
        "lst = list(range(1, 6))\n",
        "lst.reverse()\n",
        "lst"
      ]
    },
    {
      "cell_type": "code",
      "execution_count": 54,
      "metadata": {},
      "outputs": [
        {
          "data": {
            "text/plain": [
              "'olleh'"
            ]
          },
          "execution_count": 54,
          "metadata": {},
          "output_type": "execute_result"
        }
      ],
      "source": [
        "s= 'hello'\n",
        "s[::-1]"
      ]
    },
    {
      "cell_type": "code",
      "execution_count": 55,
      "metadata": {},
      "outputs": [
        {
          "data": {
            "text/plain": [
              "[1, 2, 3, 4, 5]"
            ]
          },
          "execution_count": 55,
          "metadata": {},
          "output_type": "execute_result"
        }
      ],
      "source": [
        "lst[::-1]"
      ]
    },
    {
      "cell_type": "code",
      "execution_count": 58,
      "metadata": {},
      "outputs": [
        {
          "data": {
            "text/plain": [
              "[3, 2]"
            ]
          },
          "execution_count": 58,
          "metadata": {},
          "output_type": "execute_result"
        }
      ],
      "source": [
        "lst[2:4]"
      ]
    },
    {
      "cell_type": "code",
      "execution_count": 59,
      "metadata": {},
      "outputs": [
        {
          "data": {
            "text/plain": [
              "[]"
            ]
          },
          "execution_count": 59,
          "metadata": {},
          "output_type": "execute_result"
        }
      ],
      "source": [
        "lst[2:4:-1]"
      ]
    },
    {
      "cell_type": "code",
      "execution_count": null,
      "metadata": {},
      "outputs": [
        {
          "data": {
            "text/plain": [
              "[1, 2]"
            ]
          },
          "execution_count": 60,
          "metadata": {},
          "output_type": "execute_result"
        }
      ],
      "source": [
        "lst[3:1:-1]"
      ]
    },
    {
      "cell_type": "code",
      "execution_count": 5,
      "metadata": {},
      "outputs": [
        {
          "data": {
            "text/plain": [
              "([1, 9, 9, 4, 5], [4, 9])"
            ]
          },
          "execution_count": 5,
          "metadata": {},
          "output_type": "execute_result"
        }
      ],
      "source": [
        "lst2 = lst[2:4]\n",
        "lst2.reverse()\n",
        "lst, lst2"
      ]
    },
    {
      "cell_type": "code",
      "execution_count": 1,
      "metadata": {},
      "outputs": [
        {
          "data": {
            "text/plain": [
              "[1, 2, 999, 4, 5]"
            ]
          },
          "execution_count": 1,
          "metadata": {},
          "output_type": "execute_result"
        }
      ],
      "source": [
        "lst = [1,2,3,4,5]\n",
        "lst2 = lst\n",
        "lst2[2] = 999\n",
        "lst"
      ]
    },
    {
      "cell_type": "code",
      "execution_count": 2,
      "metadata": {},
      "outputs": [
        {
          "data": {
            "text/plain": [
              "([1, 2, 3, 4, 5], [1, 2, 999, 4, 5])"
            ]
          },
          "execution_count": 2,
          "metadata": {},
          "output_type": "execute_result"
        }
      ],
      "source": [
        "lst = [1,2,3,4,5]\n",
        "lst2 = lst[:]\n",
        "lst2[2] = 999\n",
        "lst, lst2"
      ]
    },
    {
      "cell_type": "code",
      "execution_count": null,
      "metadata": {},
      "outputs": [
        {
          "data": {
            "text/plain": [
              "[1, 9, 9, 4, 5]"
            ]
          },
          "execution_count": 3,
          "metadata": {},
          "output_type": "execute_result"
        }
      ],
      "source": [
        "lst[1:3] = [9,9] # unpackin이라고 해야 할까? 아니면 전개연산자라고 해야 할까? > 알아보기\n",
        "lst"
      ]
    },
    {
      "cell_type": "code",
      "execution_count": null,
      "metadata": {
        "id": "4X8Iv0zLYWbZ"
      },
      "outputs": [
        {
          "name": "stdout",
          "output_type": "stream",
          "text": [
            "[3, 1, 4, 2, 5]\n",
            "[4, 3, 2, 1]\n",
            "[1, 2, 3]\n",
            "[6, 2, 3, 4, 5, 1]\n",
            "[5, 4, 1, 2, 3]\n"
          ]
        }
      ],
      "source": [
        "def reverse_baskets(N: int, operations: list) -> list:\n",
        "    nlist = list(range(1, N+1))\n",
        "    for i in range(len(operations)): # m번의 연산 수행\n",
        "        nlist[operations[i][0]], nlist[operations[i][1]] = nlist[operations[i][1]], nlist[operations[i][0]]\n",
        "    for i,v in operations:\n",
        "        pass\n",
        "    return nlist\n",
        "\n",
        "\n",
        "\n",
        "input_data_baskets = [\n",
        "    (5, [[0, 1], [2, 3], [0, 3], [1, 1]]),\n",
        "    (4, [[0, 3], [1, 2]]),\n",
        "    (3, []),\n",
        "    (6, [[0, 5]]),\n",
        "    (5, [[1, 3], [2, 4], [0, 2]]),\n",
        "]\n",
        "\n",
        "output_data_baskets = [\n",
        "    [3, 4, 1, 2, 5],\n",
        "    [4, 2, 3, 1],\n",
        "    [1, 2, 3],\n",
        "    [6, 5, 4, 3, 2, 1],\n",
        "    [5, 4, 1, 2, 3],\n",
        "]\n",
        "\n",
        "for (N, operations), expected_output in zip(input_data_baskets, output_data_baskets):\n",
        "    result = reverse_baskets(N, operations)\n",
        "    print(result)\n",
        "    #assert result == expected_output, f\"Failed: N={N}, operations={operations}, expected={expected_output}, got={result}\""
      ]
    },
    {
      "cell_type": "markdown",
      "metadata": {
        "id": "PwJgl2kMZFYv"
      },
      "source": [
        "# 9. 2차원 평면 위에 N개의 점이 주어집니다. 점들을 x좌표가 증가하는 순으로 정렬하고, x좌표가 같다면 y좌표가 증가하는 순으로 정렬한 후 출력하세요."
      ]
    },
    {
      "cell_type": "code",
      "execution_count": null,
      "metadata": {},
      "outputs": [
        {
          "data": {
            "text/plain": [
              "[(1, -1), (1, 1), (2, 2), (3, 3), (3, 4)]"
            ]
          },
          "execution_count": 19,
          "metadata": {},
          "output_type": "execute_result"
        }
      ],
      "source": [
        "lst = [(3, 4), (1, 1), (1, -1), (2, 2), (3, 3)]\n",
        "lst = sorted(lst) #반환값이 정렬된 리스트임\n",
        "lst"
      ]
    },
    {
      "cell_type": "code",
      "execution_count": null,
      "metadata": {},
      "outputs": [],
      "source": [
        "# 다른 방식으로 풀어보기\n",
        "def sort_points(N: int, points: list) -> list:\n",
        "    lst = []\n",
        "    return lst"
      ]
    },
    {
      "cell_type": "code",
      "execution_count": 12,
      "metadata": {
        "id": "ZbBGU2AtZLMS"
      },
      "outputs": [],
      "source": [
        "def sort_points(N: int, points: list) -> list:\n",
        "    return sorted(points)\n",
        "\n",
        "input_data_points = [\n",
        "    (5, [(3, 4), (1, 1), (1, -1), (2, 2), (3, 3)]),\n",
        "    (3, [(2, 1), (1, 2), (2, -1)]),\n",
        "    (2, [(1, 1), (1, -1)]),\n",
        "    (4, [(0, 0), (-1, 2), (-1, -2), (2, 0)]),\n",
        "    (1, [(5, 5)]),\n",
        "]\n",
        "\n",
        "output_data_points = [\n",
        "    [(1, -1), (1, 1), (2, 2), (3, 3), (3, 4)],\n",
        "    [(1, 2), (2, -1), (2, 1)],\n",
        "    [(1, -1), (1, 1)],\n",
        "    [(-1, -2), (-1, 2), (0, 0), (2, 0)],\n",
        "    [(5, 5)],\n",
        "]\n",
        "\n",
        "for (N, points), expected_output in zip(input_data_points, output_data_points):\n",
        "    result = sort_points(N, points)\n",
        "    #print(result)\n",
        "    assert result == expected_output, f\"Failed: N={N}, points={points}, expected={expected_output}, got={result}\""
      ]
    },
    {
      "cell_type": "markdown",
      "metadata": {
        "id": "GrrUQi3JZuRW"
      },
      "source": [
        "# 10. N개의 단어가 주어졌을 때, 다음 조건에 따라 단어를 정렬하는 프로그램을 작성하시오.\n",
        "\n",
        "* 길이가 짧은 순으로 정렬\n",
        "* 길이가 같으면 사전순(알파벳 순)으로 정렬\n",
        "* 중복된 단어는 하나만 남기고 제거"
      ]
    },
    {
      "cell_type": "code",
      "execution_count": 17,
      "metadata": {},
      "outputs": [
        {
          "data": {
            "text/plain": [
              "['but',\n",
              " 'i',\n",
              " 'wont',\n",
              " 'hesitate',\n",
              " 'no',\n",
              " 'more',\n",
              " 'no',\n",
              " 'more',\n",
              " 'it',\n",
              " 'cannot',\n",
              " 'wait',\n",
              " 'im',\n",
              " 'yours']"
            ]
          },
          "execution_count": 17,
          "metadata": {},
          "output_type": "execute_result"
        }
      ],
      "source": [
        "lst = [\"but\", \"i\", \"wont\", \"hesitate\", \"no\", \"more\", \"no\", \"more\", \"it\", \"cannot\", \"wait\", \"im\", \"yours\"]\n",
        "sorted(lst)\n",
        "#lst = list(map(lambda x: x[1], sorted(lst)))\n",
        "lst"
      ]
    },
    {
      "cell_type": "code",
      "execution_count": 15,
      "metadata": {
        "id": "N4lRWZB1Z3o5"
      },
      "outputs": [
        {
          "ename": "AssertionError",
          "evalue": "Failed: N=13, words=['but', 'i', 'wont', 'hesitate', 'no', 'more', 'no', 'more', 'it', 'cannot', 'wait', 'im', 'yours'], expected=['i', 'im', 'it', 'no', 'but', 'more', 'wait', 'wont', 'yours', 'cannot', 'hesitate'], got=['but', 'cannot', 'hesitate', 'i', 'im', 'it', 'more', 'more', 'no', 'no', 'wait', 'wont', 'yours']",
          "output_type": "error",
          "traceback": [
            "\u001b[1;31m---------------------------------------------------------------------------\u001b[0m",
            "\u001b[1;31mAssertionError\u001b[0m                            Traceback (most recent call last)",
            "Cell \u001b[1;32mIn[15], line 22\u001b[0m\n\u001b[0;32m     20\u001b[0m \u001b[38;5;28;01mfor\u001b[39;00m (N, words), expected_output \u001b[38;5;129;01min\u001b[39;00m \u001b[38;5;28mzip\u001b[39m(input_data_words, output_data_words):\n\u001b[0;32m     21\u001b[0m     result \u001b[38;5;241m=\u001b[39m sort_words(N, words)\n\u001b[1;32m---> 22\u001b[0m     \u001b[38;5;28;01massert\u001b[39;00m result \u001b[38;5;241m==\u001b[39m expected_output, \u001b[38;5;124mf\u001b[39m\u001b[38;5;124m\"\u001b[39m\u001b[38;5;124mFailed: N=\u001b[39m\u001b[38;5;132;01m{\u001b[39;00mN\u001b[38;5;132;01m}\u001b[39;00m\u001b[38;5;124m, words=\u001b[39m\u001b[38;5;132;01m{\u001b[39;00mwords\u001b[38;5;132;01m}\u001b[39;00m\u001b[38;5;124m, expected=\u001b[39m\u001b[38;5;132;01m{\u001b[39;00mexpected_output\u001b[38;5;132;01m}\u001b[39;00m\u001b[38;5;124m, got=\u001b[39m\u001b[38;5;132;01m{\u001b[39;00mresult\u001b[38;5;132;01m}\u001b[39;00m\u001b[38;5;124m\"\u001b[39m\n",
            "\u001b[1;31mAssertionError\u001b[0m: Failed: N=13, words=['but', 'i', 'wont', 'hesitate', 'no', 'more', 'no', 'more', 'it', 'cannot', 'wait', 'im', 'yours'], expected=['i', 'im', 'it', 'no', 'but', 'more', 'wait', 'wont', 'yours', 'cannot', 'hesitate'], got=['but', 'cannot', 'hesitate', 'i', 'im', 'it', 'more', 'more', 'no', 'no', 'wait', 'wont', 'yours']"
          ]
        }
      ],
      "source": [
        "def sort_words(N: int, words: list) -> list:\n",
        "    return sorted(words)\n",
        "\n",
        "input_data_words = [\n",
        "    (13, [\"but\", \"i\", \"wont\", \"hesitate\", \"no\", \"more\", \"no\", \"more\", \"it\", \"cannot\", \"wait\", \"im\", \"yours\"]),  # 예제 입력\n",
        "    (5, [\"apple\", \"app\", \"apple\", \"banana\", \"bat\"]),\n",
        "    (3, [\"cat\", \"dog\", \"ant\"]),\n",
        "    (2, [\"a\", \"aa\"]),\n",
        "    (1, [\"test\"]),\n",
        "]\n",
        "\n",
        "output_data_words = [\n",
        "    [\"i\", \"im\", \"it\", \"no\", \"but\", \"more\", \"wait\", \"wont\", \"yours\", \"cannot\", \"hesitate\"],\n",
        "    [\"app\", \"bat\", \"apple\", \"banana\"],\n",
        "    [\"ant\", \"cat\", \"dog\"],\n",
        "    [\"a\", \"aa\"],\n",
        "    [\"test\"],\n",
        "]\n",
        "\n",
        "for (N, words), expected_output in zip(input_data_words, output_data_words):\n",
        "    result = sort_words(N, words)\n",
        "    assert result == expected_output, f\"Failed: N={N}, words={words}, expected={expected_output}, got={result}\""
      ]
    },
    {
      "cell_type": "markdown",
      "metadata": {
        "id": "yVHuXdvzL5gG"
      },
      "source": [
        "# 11. 다음의 메서드를 구현하세요:\n",
        "add_item(item: str) -> None: 쇼핑 리스트에 항목 추가.\n",
        "remove_item(item: str) -> None: 쇼핑 리스트에서 항목 제거.\n",
        "display_list() -> List[str]: 현재 쇼핑 리스트 반환. quit() -> None: 쇼핑 리스트 종료."
      ]
    },
    {
      "cell_type": "code",
      "execution_count": null,
      "metadata": {
        "id": "cdNE7M-IL99V"
      },
      "outputs": [],
      "source": [
        "from typing import List, Dict, Callable, Any\n",
        "\n",
        "items = []\n",
        "\n",
        "def add_item(item: str) -> None:\n",
        "  #implement your code\n",
        "  pass\n",
        "\n",
        "def remove_item(item: str) -> None:\n",
        "  #implement your code\n",
        "  pass\n",
        "\n",
        "def display_list(item: str) -> List[str]:\n",
        "  #implement your code\n",
        "  pass\n",
        "\n",
        "def quit(item: str) -> None:\n",
        "  #implement your code\n",
        "  pass\n"
      ]
    },
    {
      "cell_type": "code",
      "execution_count": null,
      "metadata": {
        "id": "yQ2rKbCqaTyV"
      },
      "outputs": [],
      "source": [
        "commands = {'add': add_item,\n",
        "            'remove': remove_item,\n",
        "            'display': display_list,\n",
        "            'exit': quit}\n",
        "\n",
        "input_data_shopping_list = [(\"add\", \"apple\"), (\"add\", \"banana\"),\n",
        "                            (\"add\", \"orange\"), (\"display\", ''),\n",
        "                            (\"remove\", \"banana\"), (\"display\", ''),\n",
        "                            (\"exit\", '')]\n",
        "\n",
        "output_data_shopping_list = [None, None,None,[\"apple\", \"banana\", \"orange\"], None,[\"apple\", \"orange\"],None]\n",
        "\n",
        "for (action, item), expected_output in zip(input_data_shopping_list, output_data_shopping_list):\n",
        "  assert commands[action](item) == expected_output"
      ]
    }
  ],
  "metadata": {
    "colab": {
      "provenance": []
    },
    "kernelspec": {
      "display_name": "Python 3",
      "name": "python3"
    },
    "language_info": {
      "codemirror_mode": {
        "name": "ipython",
        "version": 3
      },
      "file_extension": ".py",
      "mimetype": "text/x-python",
      "name": "python",
      "nbconvert_exporter": "python",
      "pygments_lexer": "ipython3",
      "version": "3.9.13"
    }
  },
  "nbformat": 4,
  "nbformat_minor": 0
}
