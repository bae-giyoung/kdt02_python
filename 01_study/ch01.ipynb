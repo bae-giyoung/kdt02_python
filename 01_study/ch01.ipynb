{
 "cells": [
  {
   "cell_type": "code",
   "execution_count": 9,
   "id": "726e6195",
   "metadata": {},
   "outputs": [
    {
     "name": "stdout",
     "output_type": "stream",
     "text": [
      "Python 3.9.13\n"
     ]
    }
   ],
   "source": [
    "!python --version"
   ]
  },
  {
   "cell_type": "code",
   "execution_count": 12,
   "id": "22c290cf",
   "metadata": {},
   "outputs": [
    {
     "data": {
      "text/plain": [
       "(4, int)"
      ]
     },
     "execution_count": 12,
     "metadata": {},
     "output_type": "execute_result"
    }
   ],
   "source": [
    "a = 1+3\n",
    "a, type(a)"
   ]
  },
  {
   "cell_type": "code",
   "execution_count": 13,
   "id": "4a07dd3a",
   "metadata": {},
   "outputs": [
    {
     "data": {
      "text/plain": [
       "(3.14, float)"
      ]
     },
     "execution_count": 13,
     "metadata": {},
     "output_type": "execute_result"
    }
   ],
   "source": [
    "b = 3.14\n",
    "b, type(b)"
   ]
  },
  {
   "cell_type": "code",
   "execution_count": 15,
   "id": "18fd86f0",
   "metadata": {},
   "outputs": [
    {
     "data": {
      "text/plain": [
       "('hello', str)"
      ]
     },
     "execution_count": 15,
     "metadata": {},
     "output_type": "execute_result"
    }
   ],
   "source": [
    "c = 'hello'\n",
    "c, type(c)"
   ]
  },
  {
   "cell_type": "code",
   "execution_count": null,
   "id": "d7a15106",
   "metadata": {},
   "outputs": [
    {
     "data": {
      "text/plain": [
       "('hello', str)"
      ]
     },
     "execution_count": 14,
     "metadata": {},
     "output_type": "execute_result"
    }
   ],
   "source": [
    "c = \"hello\"\n",
    "c, type(c)"
   ]
  },
  {
   "cell_type": "code",
   "execution_count": 16,
   "id": "370b524f",
   "metadata": {},
   "outputs": [
    {
     "data": {
      "text/plain": [
       "(False, bool)"
      ]
     },
     "execution_count": 16,
     "metadata": {},
     "output_type": "execute_result"
    }
   ],
   "source": [
    "d = False\n",
    "d, type(d)"
   ]
  },
  {
   "cell_type": "code",
   "execution_count": 18,
   "id": "1afd971d",
   "metadata": {},
   "outputs": [
    {
     "data": {
      "text/plain": [
       "([], list)"
      ]
     },
     "execution_count": 18,
     "metadata": {},
     "output_type": "execute_result"
    }
   ],
   "source": [
    "#e = list()\n",
    "e = []\n",
    "e, type(e)"
   ]
  },
  {
   "cell_type": "code",
   "execution_count": 19,
   "id": "7deafa82",
   "metadata": {},
   "outputs": [
    {
     "data": {
      "text/plain": [
       "((), tuple)"
      ]
     },
     "execution_count": 19,
     "metadata": {},
     "output_type": "execute_result"
    }
   ],
   "source": [
    "f = ()\n",
    "f, type(f)"
   ]
  },
  {
   "cell_type": "code",
   "execution_count": 20,
   "id": "4c53b5e3",
   "metadata": {},
   "outputs": [
    {
     "data": {
      "text/plain": [
       "({}, dict)"
      ]
     },
     "execution_count": 20,
     "metadata": {},
     "output_type": "execute_result"
    }
   ],
   "source": [
    "g = {}\n",
    "g, type(g)"
   ]
  },
  {
   "cell_type": "code",
   "execution_count": 22,
   "id": "2c0a660c",
   "metadata": {},
   "outputs": [
    {
     "data": {
      "text/plain": [
       "(3, -1, 2)"
      ]
     },
     "execution_count": 22,
     "metadata": {},
     "output_type": "execute_result"
    }
   ],
   "source": [
    "1+2, 1-2, 1*2"
   ]
  },
  {
   "cell_type": "code",
   "execution_count": null,
   "id": "b69a1677",
   "metadata": {},
   "outputs": [
    {
     "data": {
      "text/plain": [
       "0.5"
      ]
     },
     "execution_count": 25,
     "metadata": {},
     "output_type": "execute_result"
    }
   ],
   "source": [
    "1/2 # C계열 언어와 다르다는 것"
   ]
  },
  {
   "cell_type": "code",
   "execution_count": 77,
   "id": "9ddce97f",
   "metadata": {},
   "outputs": [
    {
     "data": {
      "text/plain": [
       "5"
      ]
     },
     "execution_count": 77,
     "metadata": {},
     "output_type": "execute_result"
    }
   ],
   "source": [
    "537//100 # 매우 중요"
   ]
  },
  {
   "cell_type": "code",
   "execution_count": null,
   "id": "c736f22b",
   "metadata": {},
   "outputs": [
    {
     "data": {
      "text/plain": [
       "(0.5, float)"
      ]
     },
     "execution_count": 28,
     "metadata": {},
     "output_type": "execute_result"
    }
   ],
   "source": [
    "num = 1/2\n",
    "num, type(num)"
   ]
  },
  {
   "cell_type": "code",
   "execution_count": 76,
   "id": "66c7d72d",
   "metadata": {},
   "outputs": [
    {
     "data": {
      "text/plain": [
       "7"
      ]
     },
     "execution_count": 76,
     "metadata": {},
     "output_type": "execute_result"
    }
   ],
   "source": [
    "537 % 10 # 모듈라 연산"
   ]
  },
  {
   "cell_type": "code",
   "execution_count": null,
   "id": "336e0897",
   "metadata": {},
   "outputs": [
    {
     "data": {
      "text/plain": [
       "37"
      ]
     },
     "execution_count": 31,
     "metadata": {},
     "output_type": "execute_result"
    }
   ],
   "source": [
    "537 % 100"
   ]
  },
  {
   "cell_type": "code",
   "execution_count": null,
   "id": "c0508ff6",
   "metadata": {},
   "outputs": [
    {
     "name": "stdout",
     "output_type": "stream",
     "text": [
      "21 597\n",
      "21\n",
      "21\n",
      "21\n",
      "597 [5, 9, 7]\n",
      "21\n"
     ]
    }
   ],
   "source": [
    "# [직접 구현]\n",
    "#597이 21이 되게 > 각 자리수의 합 구하기 (직접 구현)\n",
    "num = 597\n",
    "\n",
    "def calc(a):\n",
    "    result = 0\n",
    "    jari = 1\n",
    "    c_a = a\n",
    "    # 매개변수 a는 지역변수임\n",
    "    # 숫자는 불변타입으로 연산 후 재할당하면 새로운 객체의 새로운 메모리 주소를 참조하므로 원본 num이 변하지 않았던듯 \n",
    "\n",
    "    while(c_a > 0):\n",
    "        c_a = c_a // 10\n",
    "        jari+=1\n",
    "\n",
    "    for i in list(range(jari))[::-1]:\n",
    "        n = 10**i\n",
    "        result += a // n\n",
    "        a = a % n\n",
    "        \n",
    "    return result\n",
    "\n",
    "print(calc(num), num)\n",
    "\n",
    "\n",
    "\n",
    "\n",
    "\n",
    "\n",
    "# [코드 리뷰]\n",
    "# 밑에서 부터는 gpt 코드리뷰 후 작성해봄\n",
    "#597이 21이 되게 > 각 자리수의 합 구하기2 > (변수명)\n",
    "\n",
    "def calc2(a):\n",
    "    result = 0\n",
    "    num_digit = len(str(a)) # 보통 이렇게 구한다고함!\n",
    "    c = a\n",
    "\n",
    "    for i in list(range(num_digit))[::-1]: #range(jari-1, -1, -1) 추천함\n",
    "        n = 10**i\n",
    "        result += a // n\n",
    "        a = a % n\n",
    "    return result\n",
    "\n",
    "print(calc2(num))\n",
    "\n",
    "\n",
    "\n",
    "#597이 21이 되게 > 각 자리수의 합 구하기3 > 더 짧게! (파이썬스럽게)\n",
    "\n",
    "def calc3(a):\n",
    "    return sum(map(lambda x: int(x), str(a))) # 원본이 변경되지 않는다는 것!\n",
    "\n",
    "print(calc3(num))\n",
    "\n",
    "\n",
    "\n",
    "\n",
    "#597이 21이 되게 > 각 자리수의 합 구하기3 > 더 더 짧게!\n",
    "def calc4(a):\n",
    "    return sum(int(d) for d in str(a)) # 원본이 변경이 되지 않는다는 것! > general expression의 결과는 general 객체(이터레이터 객체임)!\n",
    "\n",
    "print(calc4(num))\n",
    "print(num, [int(d) for d in str(num)]) # general expression을 []안에 사용하면 list comprehesion\n",
    "\n",
    "\n",
    "\n",
    "\n",
    "#597이 21이 되게 > 각 자리수의 합 구하기3 > gpt 리뷰 (수학적 접근)\n",
    "def calc5(a):\n",
    "    total = 0\n",
    "    while a > 0:\n",
    "        a, digit = divmod(a, 10)\n",
    "        total += digit\n",
    "    return total\n",
    "\n",
    "print(calc5(num))"
   ]
  },
  {
   "cell_type": "markdown",
   "id": "c2ea7114",
   "metadata": {},
   "source": [
    "#float"
   ]
  },
  {
   "cell_type": "code",
   "execution_count": 34,
   "id": "e40cccbb",
   "metadata": {},
   "outputs": [
    {
     "data": {
      "text/plain": [
       "(4.140000000000001, float)"
      ]
     },
     "execution_count": 34,
     "metadata": {},
     "output_type": "execute_result"
    }
   ],
   "source": [
    "a = 3.14 + 1\n",
    "a, type(a)"
   ]
  },
  {
   "cell_type": "code",
   "execution_count": 36,
   "id": "7e51d655",
   "metadata": {},
   "outputs": [
    {
     "name": "stdout",
     "output_type": "stream",
     "text": [
      "다름\n"
     ]
    }
   ],
   "source": [
    "if a==4.14:\n",
    "    print(\"같음\")\n",
    "else:\n",
    "    print(\"다름\")"
   ]
  },
  {
   "cell_type": "code",
   "execution_count": 42,
   "id": "baca8862",
   "metadata": {},
   "outputs": [],
   "source": [
    "s = 'hello'\n",
    "#s+1 #TypeError: can only concatenate str (not \"int\") to str"
   ]
  },
  {
   "cell_type": "code",
   "execution_count": null,
   "id": "4f70ebed",
   "metadata": {},
   "outputs": [
    {
     "data": {
      "text/plain": [
       "125"
      ]
     },
     "execution_count": 41,
     "metadata": {},
     "output_type": "execute_result"
    }
   ],
   "source": [
    "# 거듭제곱\n",
    "5**3"
   ]
  },
  {
   "cell_type": "code",
   "execution_count": 47,
   "id": "dbd49cff",
   "metadata": {},
   "outputs": [
    {
     "data": {
      "text/plain": [
       "str"
      ]
     },
     "execution_count": 47,
     "metadata": {},
     "output_type": "execute_result"
    }
   ],
   "source": [
    "type(s)"
   ]
  },
  {
   "cell_type": "code",
   "execution_count": null,
   "id": "f05aa210",
   "metadata": {},
   "outputs": [
    {
     "data": {
      "text/plain": [
       "'ahellobhelloc'"
      ]
     },
     "execution_count": 48,
     "metadata": {},
     "output_type": "execute_result"
    }
   ],
   "source": [
    "s.join([\"a\",\"b\",\"c\"]) # 새로운 문자열 반환"
   ]
  },
  {
   "cell_type": "code",
   "execution_count": 49,
   "id": "63713f7d",
   "metadata": {},
   "outputs": [
    {
     "data": {
      "text/plain": [
       "'Hello'"
      ]
     },
     "execution_count": 49,
     "metadata": {},
     "output_type": "execute_result"
    }
   ],
   "source": [
    "s.title()"
   ]
  },
  {
   "cell_type": "code",
   "execution_count": null,
   "id": "3084935c",
   "metadata": {},
   "outputs": [
    {
     "name": "stdout",
     "output_type": "stream",
     "text": [
      "1 1\n"
     ]
    }
   ],
   "source": [
    "print(1, '1') # 출력값은 구분이 안된다"
   ]
  },
  {
   "cell_type": "code",
   "execution_count": 51,
   "id": "2e3208fb",
   "metadata": {},
   "outputs": [
    {
     "data": {
      "text/plain": [
       "2"
      ]
     },
     "execution_count": 51,
     "metadata": {},
     "output_type": "execute_result"
    }
   ],
   "source": [
    "int('1')+1"
   ]
  },
  {
   "cell_type": "code",
   "execution_count": 52,
   "id": "abc4736c",
   "metadata": {},
   "outputs": [
    {
     "data": {
      "text/plain": [
       "'hello'"
      ]
     },
     "execution_count": 52,
     "metadata": {},
     "output_type": "execute_result"
    }
   ],
   "source": [
    "\"hello\""
   ]
  },
  {
   "cell_type": "code",
   "execution_count": null,
   "id": "0ab4ad0a",
   "metadata": {},
   "outputs": [
    {
     "name": "stdout",
     "output_type": "stream",
     "text": [
      "hello\n",
      "word!\n",
      "1\n",
      "4\n",
      "3.14\n"
     ]
    }
   ],
   "source": [
    "print('hello', 'word!', 1, 4, 3.14, sep='\\n') # default seq값은 ' '"
   ]
  },
  {
   "cell_type": "code",
   "execution_count": 59,
   "id": "42626c74",
   "metadata": {},
   "outputs": [
    {
     "name": "stdout",
     "output_type": "stream",
     "text": [
      "hello "
     ]
    }
   ],
   "source": [
    "print('hello', end=' ') # default end값은 엔터 \\n"
   ]
  },
  {
   "cell_type": "code",
   "execution_count": 66,
   "id": "4a27ae87",
   "metadata": {},
   "outputs": [
    {
     "data": {
      "text/plain": [
       "['1', '2', '3', '4', '5']"
      ]
     },
     "execution_count": 66,
     "metadata": {},
     "output_type": "execute_result"
    }
   ],
   "source": [
    "'1 2 3 4 5'.split()"
   ]
  },
  {
   "cell_type": "code",
   "execution_count": null,
   "id": "dbbf37fc",
   "metadata": {},
   "outputs": [
    {
     "data": {
      "text/plain": [
       "15"
      ]
     },
     "execution_count": 64,
     "metadata": {},
     "output_type": "execute_result"
    }
   ],
   "source": [
    "inp = '1 2 3 4 5'\n",
    "\n",
    "def my_sum(num):\n",
    "    result = 0\n",
    "    for n in num.split():\n",
    "        result += int(n) # String이라는것 기억하자!\n",
    "    return result\n",
    "\n",
    "my_sum(inp)"
   ]
  },
  {
   "cell_type": "code",
   "execution_count": 65,
   "id": "95be1f35",
   "metadata": {},
   "outputs": [
    {
     "data": {
      "text/plain": [
       "15"
      ]
     },
     "execution_count": 65,
     "metadata": {},
     "output_type": "execute_result"
    }
   ],
   "source": [
    "sum(map(int, inp.split()))"
   ]
  },
  {
   "cell_type": "code",
   "execution_count": null,
   "id": "4ec178c0",
   "metadata": {},
   "outputs": [
    {
     "data": {
      "text/plain": [
       "'hello'"
      ]
     },
     "execution_count": 95,
     "metadata": {},
     "output_type": "execute_result"
    }
   ],
   "source": [
    "# 문자열은 불변이다.\n",
    "s = 'hello'\n",
    "#s[0] = 'H' # TypeError: 'str' object does not support item assignment\n",
    "s"
   ]
  },
  {
   "cell_type": "code",
   "execution_count": 101,
   "id": "091d70d7",
   "metadata": {},
   "outputs": [
    {
     "data": {
      "text/plain": [
       "('h', 'e', 'l', 'l', 'o')"
      ]
     },
     "execution_count": 101,
     "metadata": {},
     "output_type": "execute_result"
    }
   ],
   "source": [
    "s[0], s[1], s[2], s[3], s[4]"
   ]
  },
  {
   "cell_type": "code",
   "execution_count": 98,
   "id": "827bf57f",
   "metadata": {},
   "outputs": [
    {
     "data": {
      "text/plain": [
       "'o'"
      ]
     },
     "execution_count": 98,
     "metadata": {},
     "output_type": "execute_result"
    }
   ],
   "source": [
    "s[-1]"
   ]
  },
  {
   "cell_type": "code",
   "execution_count": 106,
   "id": "3e257d64",
   "metadata": {},
   "outputs": [
    {
     "data": {
      "text/plain": [
       "('o', 'el', '', 'ello', 'ell')"
      ]
     },
     "execution_count": 106,
     "metadata": {},
     "output_type": "execute_result"
    }
   ],
   "source": [
    "# 슬라이싱\n",
    "s[-1], s[1:3], s[1:1], s[1:len(s)], s[1:-1]"
   ]
  },
  {
   "cell_type": "code",
   "execution_count": 107,
   "id": "c80c32fa",
   "metadata": {},
   "outputs": [
    {
     "data": {
      "text/plain": [
       "('he', 'llo')"
      ]
     },
     "execution_count": 107,
     "metadata": {},
     "output_type": "execute_result"
    }
   ],
   "source": [
    "s[:2], s[2:]"
   ]
  },
  {
   "cell_type": "code",
   "execution_count": null,
   "id": "6a614ec6",
   "metadata": {},
   "outputs": [
    {
     "data": {
      "text/plain": [
       "'olleh'"
      ]
     },
     "execution_count": 108,
     "metadata": {},
     "output_type": "execute_result"
    }
   ],
   "source": [
    "s[::-1] # step"
   ]
  },
  {
   "cell_type": "code",
   "execution_count": null,
   "id": "c4973d2f",
   "metadata": {},
   "outputs": [
    {
     "data": {
      "text/plain": [
       "True"
      ]
     },
     "execution_count": 112,
     "metadata": {},
     "output_type": "execute_result"
    }
   ],
   "source": [
    "# 회문 문제\n",
    "s = 'aba'\n",
    "s == s[::-1] # 회문인지 확인"
   ]
  },
  {
   "cell_type": "code",
   "execution_count": 113,
   "id": "d60b2498",
   "metadata": {},
   "outputs": [
    {
     "name": "stdout",
     "output_type": "stream",
     "text": [
      "a\n",
      "b\n",
      "a\n"
     ]
    }
   ],
   "source": [
    "for i in s:\n",
    "    print(i)"
   ]
  },
  {
   "cell_type": "code",
   "execution_count": 117,
   "id": "02d10b2d",
   "metadata": {},
   "outputs": [
    {
     "name": "stdout",
     "output_type": "stream",
     "text": [
      "a\n",
      "b\n",
      "a\n"
     ]
    }
   ],
   "source": [
    "for i in s[::-1]:\n",
    "    print(i)"
   ]
  },
  {
   "cell_type": "code",
   "execution_count": 116,
   "id": "1a90c729",
   "metadata": {},
   "outputs": [
    {
     "data": {
      "text/plain": [
       "[0, 1, 2]"
      ]
     },
     "execution_count": 116,
     "metadata": {},
     "output_type": "execute_result"
    }
   ],
   "source": [
    "list(range(3))"
   ]
  },
  {
   "cell_type": "code",
   "execution_count": 118,
   "id": "f43436f5",
   "metadata": {},
   "outputs": [
    {
     "data": {
      "text/plain": [
       "'hello world!'"
      ]
     },
     "execution_count": 118,
     "metadata": {},
     "output_type": "execute_result"
    }
   ],
   "source": [
    "s = 'hello'\n",
    "s + ' world!'"
   ]
  },
  {
   "cell_type": "code",
   "execution_count": null,
   "id": "0e208ff0",
   "metadata": {},
   "outputs": [
    {
     "data": {
      "text/plain": [
       "True"
      ]
     },
     "execution_count": 123,
     "metadata": {},
     "output_type": "execute_result"
    }
   ],
   "source": [
    "# in 연산자\n",
    "'e' in s"
   ]
  },
  {
   "cell_type": "code",
   "execution_count": 143,
   "id": "ed2064eb",
   "metadata": {},
   "outputs": [
    {
     "data": {
      "text/plain": [
       "'**********'"
      ]
     },
     "execution_count": 143,
     "metadata": {},
     "output_type": "execute_result"
    }
   ],
   "source": [
    "# 문자열 * 정수\n",
    "\"*\" * 10"
   ]
  },
  {
   "cell_type": "markdown",
   "id": "267b6c1b",
   "metadata": {},
   "source": [
    "#list"
   ]
  },
  {
   "cell_type": "code",
   "execution_count": 218,
   "id": "e6ff5d96",
   "metadata": {},
   "outputs": [
    {
     "data": {
      "text/plain": [
       "2"
      ]
     },
     "execution_count": 218,
     "metadata": {},
     "output_type": "execute_result"
    }
   ],
   "source": [
    "# 모음의 개수를 세는 함수\n",
    "\n",
    "s = 'hello'\n",
    "\n",
    "#a e i o u\n",
    "\n",
    "def count_voewl(s):\n",
    "    cnt = 0 \n",
    "    for v in s:\n",
    "        if v in 'aeiou':\n",
    "            cnt+=1\n",
    "    return cnt\n",
    "\n",
    "count_voewl(s)\n"
   ]
  },
  {
   "cell_type": "code",
   "execution_count": 129,
   "id": "5823e065",
   "metadata": {},
   "outputs": [
    {
     "data": {
      "text/plain": [
       "(list, list)"
      ]
     },
     "execution_count": 129,
     "metadata": {},
     "output_type": "execute_result"
    }
   ],
   "source": [
    "a = []\n",
    "b = list()\n",
    "\n",
    "type(a), type(b)"
   ]
  },
  {
   "cell_type": "code",
   "execution_count": 130,
   "id": "a159163f",
   "metadata": {},
   "outputs": [
    {
     "data": {
      "text/plain": [
       "(15, 1, 5)"
      ]
     },
     "execution_count": 130,
     "metadata": {},
     "output_type": "execute_result"
    }
   ],
   "source": [
    "a = [1,2,3,4,5]\n",
    "sum(a), min(a), max(a)"
   ]
  },
  {
   "cell_type": "code",
   "execution_count": 131,
   "id": "e0ba2a6f",
   "metadata": {},
   "outputs": [
    {
     "data": {
      "text/plain": [
       "(6, 1, 3)"
      ]
     },
     "execution_count": 131,
     "metadata": {},
     "output_type": "execute_result"
    }
   ],
   "source": [
    "sum([1,2,3]), min([1,2,3]), max([1,2,3])"
   ]
  },
  {
   "cell_type": "code",
   "execution_count": 132,
   "id": "a4c9e990",
   "metadata": {},
   "outputs": [
    {
     "data": {
      "text/plain": [
       "5"
      ]
     },
     "execution_count": 132,
     "metadata": {},
     "output_type": "execute_result"
    }
   ],
   "source": [
    "len(a)"
   ]
  },
  {
   "cell_type": "code",
   "execution_count": 133,
   "id": "43686380",
   "metadata": {},
   "outputs": [
    {
     "data": {
      "text/plain": [
       "(0, 0.0, '', [])"
      ]
     },
     "execution_count": 133,
     "metadata": {},
     "output_type": "execute_result"
    }
   ],
   "source": [
    "int(), float(), str(), list()"
   ]
  },
  {
   "cell_type": "code",
   "execution_count": null,
   "id": "e6c85237",
   "metadata": {},
   "outputs": [],
   "source": [
    "class range:\n",
    "    def __init__(self, a-0, b=0):\n",
    "        pass"
   ]
  },
  {
   "cell_type": "code",
   "execution_count": 134,
   "id": "b9163712",
   "metadata": {},
   "outputs": [
    {
     "data": {
      "text/plain": [
       "(range(0, 5), range(1, 5), range(1, 10, 2))"
      ]
     },
     "execution_count": 134,
     "metadata": {},
     "output_type": "execute_result"
    }
   ],
   "source": [
    "range(5), range(1,5), range(1, 10, 2)"
   ]
  },
  {
   "cell_type": "code",
   "execution_count": 135,
   "id": "fb2e61cd",
   "metadata": {},
   "outputs": [
    {
     "data": {
      "text/plain": [
       "([0, 1, 2, 3, 4], [1, 2, 3, 4], [1, 3, 5, 7, 9])"
      ]
     },
     "execution_count": 135,
     "metadata": {},
     "output_type": "execute_result"
    }
   ],
   "source": [
    "list(range(5)), list(range(1,5)), list(range(1, 10, 2))"
   ]
  },
  {
   "cell_type": "code",
   "execution_count": 136,
   "id": "59f4658c",
   "metadata": {},
   "outputs": [
    {
     "data": {
      "text/plain": [
       "[1, 2, 3, 4, 5, 6, 7, 8, 9, 10]"
      ]
     },
     "execution_count": 136,
     "metadata": {},
     "output_type": "execute_result"
    }
   ],
   "source": [
    "list(range(1,11))"
   ]
  },
  {
   "cell_type": "code",
   "execution_count": null,
   "id": "f11aa51e",
   "metadata": {},
   "outputs": [
    {
     "data": {
      "text/plain": [
       "[1, 2, 3, 4, 5, 6]"
      ]
     },
     "execution_count": 137,
     "metadata": {},
     "output_type": "execute_result"
    }
   ],
   "source": [
    "# list + list\n",
    "a = [1,2,3,4,5]\n",
    "a + [6]"
   ]
  },
  {
   "cell_type": "code",
   "execution_count": null,
   "id": "d3e82ca8",
   "metadata": {},
   "outputs": [
    {
     "data": {
      "text/plain": [
       "[6, 6]"
      ]
     },
     "execution_count": 141,
     "metadata": {},
     "output_type": "execute_result"
    }
   ],
   "source": [
    "# list * 정수\n",
    "[6]*2"
   ]
  },
  {
   "cell_type": "code",
   "execution_count": 146,
   "id": "c150a7fe",
   "metadata": {},
   "outputs": [
    {
     "name": "stdout",
     "output_type": "stream",
     "text": [
      "***\n",
      " **\n",
      "  *\n"
     ]
    }
   ],
   "source": [
    "print(' ' * 0 + \"*\" * 3)\n",
    "print(' ' * 1 + \"*\" * 2)\n",
    "print(' ' * 2 + \"*\" * 1)"
   ]
  },
  {
   "cell_type": "code",
   "execution_count": 154,
   "id": "baa7a119",
   "metadata": {},
   "outputs": [
    {
     "name": "stdout",
     "output_type": "stream",
     "text": [
      "***\n",
      " **\n",
      "  *\n"
     ]
    }
   ],
   "source": [
    "for i in range(3):\n",
    "    print(' ' * i + \"*\" * (len(range(3))-i))"
   ]
  },
  {
   "cell_type": "code",
   "execution_count": 147,
   "id": "1f79668f",
   "metadata": {},
   "outputs": [
    {
     "data": {
      "text/plain": [
       "[2, 3]"
      ]
     },
     "execution_count": 147,
     "metadata": {},
     "output_type": "execute_result"
    }
   ],
   "source": [
    "a = [1,2,3,4,5]\n",
    "a[1:3]"
   ]
  },
  {
   "cell_type": "code",
   "execution_count": 148,
   "id": "2c697367",
   "metadata": {},
   "outputs": [
    {
     "data": {
      "text/plain": [
       "([1, 2], [3, 4, 5])"
      ]
     },
     "execution_count": 148,
     "metadata": {},
     "output_type": "execute_result"
    }
   ],
   "source": [
    "a = [1,2,3,4,5]\n",
    "a[:len(a)//2], a[len(a)//2:]"
   ]
  },
  {
   "cell_type": "code",
   "execution_count": 149,
   "id": "dfe52dc6",
   "metadata": {},
   "outputs": [
    {
     "name": "stdout",
     "output_type": "stream",
     "text": [
      "1\n",
      "2\n",
      "3\n",
      "4\n",
      "5\n"
     ]
    }
   ],
   "source": [
    "for i in a:\n",
    "    print(i)"
   ]
  },
  {
   "cell_type": "code",
   "execution_count": 150,
   "id": "0beb1ac3",
   "metadata": {},
   "outputs": [
    {
     "name": "stdout",
     "output_type": "stream",
     "text": [
      "0\n",
      "1\n",
      "2\n"
     ]
    }
   ],
   "source": [
    "for i in range(3):\n",
    "    print(i)"
   ]
  },
  {
   "cell_type": "markdown",
   "id": "aff2f7ad",
   "metadata": {},
   "source": [
    "# String Format"
   ]
  },
  {
   "cell_type": "code",
   "execution_count": 160,
   "id": "6449be3d",
   "metadata": {},
   "outputs": [
    {
     "data": {
      "text/plain": [
       "('5, 3.15', '5, 3.15')"
      ]
     },
     "execution_count": 160,
     "metadata": {},
     "output_type": "execute_result"
    }
   ],
   "source": [
    "a = 5\n",
    "b = 3.1459\n",
    "\n",
    "f'{a}, {b:.2f}', '{:}, {:.2f}'.format(a, b)"
   ]
  },
  {
   "cell_type": "markdown",
   "id": "4272b08d",
   "metadata": {},
   "source": [
    "# swap"
   ]
  },
  {
   "cell_type": "code",
   "execution_count": 161,
   "id": "28a61886",
   "metadata": {},
   "outputs": [
    {
     "data": {
      "text/plain": [
       "(3, 1)"
      ]
     },
     "execution_count": 161,
     "metadata": {},
     "output_type": "execute_result"
    }
   ],
   "source": [
    "a = 1\n",
    "b = 3\n",
    "\n",
    "a, b = b, a\n",
    "\n",
    "a, b"
   ]
  },
  {
   "cell_type": "code",
   "execution_count": 162,
   "id": "0370adb4",
   "metadata": {},
   "outputs": [
    {
     "data": {
      "text/plain": [
       "(1, 2)"
      ]
     },
     "execution_count": 162,
     "metadata": {},
     "output_type": "execute_result"
    }
   ],
   "source": [
    "def foo():\n",
    "    return 1, 2\n",
    "\n",
    "a, b = foo()\n",
    "\n",
    "a, b"
   ]
  },
  {
   "cell_type": "markdown",
   "id": "b913a172",
   "metadata": {},
   "source": [
    "# CRUD for list"
   ]
  },
  {
   "cell_type": "code",
   "execution_count": null,
   "id": "4f717751",
   "metadata": {},
   "outputs": [
    {
     "data": {
      "text/plain": [
       "[1, 2, 3, 4, 5]"
      ]
     },
     "execution_count": 164,
     "metadata": {},
     "output_type": "execute_result"
    }
   ],
   "source": [
    "stack = []\n",
    "\n",
    "def push(a):\n",
    "    stack.append(a)\n",
    "\n",
    "push(1)\n",
    "push(2)\n",
    "push(3)\n",
    "push(4)\n",
    "push(5)\n",
    "\n",
    "stack"
   ]
  },
  {
   "cell_type": "code",
   "execution_count": 166,
   "id": "c59b1d79",
   "metadata": {},
   "outputs": [
    {
     "data": {
      "text/plain": [
       "4"
      ]
     },
     "execution_count": 166,
     "metadata": {},
     "output_type": "execute_result"
    }
   ],
   "source": [
    "def pop():\n",
    "    return stack.pop()\n",
    "\n",
    "pop()"
   ]
  },
  {
   "cell_type": "code",
   "execution_count": 168,
   "id": "4e81b573",
   "metadata": {},
   "outputs": [
    {
     "data": {
      "text/plain": [
       "3"
      ]
     },
     "execution_count": 168,
     "metadata": {},
     "output_type": "execute_result"
    }
   ],
   "source": [
    "def top():\n",
    "    return stack[-1]\n",
    "\n",
    "top()"
   ]
  },
  {
   "cell_type": "code",
   "execution_count": 170,
   "id": "5accd41a",
   "metadata": {},
   "outputs": [
    {
     "data": {
      "text/plain": [
       "[5, 4, 3, 2, 1]"
      ]
     },
     "execution_count": 170,
     "metadata": {},
     "output_type": "execute_result"
    }
   ],
   "source": [
    "stack = []\n",
    "\n",
    "def push(e):\n",
    "    stack.insert(0, e)\n",
    "\n",
    "push(1)\n",
    "push(2)\n",
    "push(3)\n",
    "push(4)\n",
    "push(5)\n",
    "\n",
    "stack"
   ]
  },
  {
   "cell_type": "code",
   "execution_count": 171,
   "id": "72b00b21",
   "metadata": {},
   "outputs": [
    {
     "data": {
      "text/plain": [
       "5"
      ]
     },
     "execution_count": 171,
     "metadata": {},
     "output_type": "execute_result"
    }
   ],
   "source": [
    "def pop():\n",
    "    return stack.pop(0)\n",
    "\n",
    "pop()"
   ]
  },
  {
   "cell_type": "code",
   "execution_count": 172,
   "id": "bcb5c2f8",
   "metadata": {},
   "outputs": [
    {
     "data": {
      "text/plain": [
       "4"
      ]
     },
     "execution_count": 172,
     "metadata": {},
     "output_type": "execute_result"
    }
   ],
   "source": [
    "def top():\n",
    "    return stack[0]\n",
    "\n",
    "top()"
   ]
  },
  {
   "cell_type": "code",
   "execution_count": 173,
   "id": "b35fe599",
   "metadata": {},
   "outputs": [
    {
     "data": {
      "text/plain": [
       "[4, 5, 2, 1]"
      ]
     },
     "execution_count": 173,
     "metadata": {},
     "output_type": "execute_result"
    }
   ],
   "source": [
    "stack[1] = 5\n",
    "stack"
   ]
  },
  {
   "cell_type": "code",
   "execution_count": 175,
   "id": "2ee8ae48",
   "metadata": {},
   "outputs": [
    {
     "data": {
      "text/plain": [
       "[4, 5, 1]"
      ]
     },
     "execution_count": 175,
     "metadata": {},
     "output_type": "execute_result"
    }
   ],
   "source": [
    "stack.remove(2)\n",
    "stack"
   ]
  },
  {
   "cell_type": "code",
   "execution_count": 178,
   "id": "6b044159",
   "metadata": {},
   "outputs": [
    {
     "data": {
      "text/plain": [
       "0"
      ]
     },
     "execution_count": 178,
     "metadata": {},
     "output_type": "execute_result"
    }
   ],
   "source": [
    "stack.count(2) # 해당하는 요소가 몇개가 있냐"
   ]
  },
  {
   "cell_type": "code",
   "execution_count": 179,
   "id": "691f0d43",
   "metadata": {},
   "outputs": [
    {
     "data": {
      "text/plain": [
       "[1, 3, 4, 5]"
      ]
     },
     "execution_count": 179,
     "metadata": {},
     "output_type": "execute_result"
    }
   ],
   "source": [
    "stack = [1,2,3,4,5]\n",
    "del stack[1]\n",
    "stack"
   ]
  },
  {
   "cell_type": "code",
   "execution_count": 182,
   "id": "0c54e574",
   "metadata": {},
   "outputs": [
    {
     "data": {
      "text/plain": [
       "3"
      ]
     },
     "execution_count": 182,
     "metadata": {},
     "output_type": "execute_result"
    }
   ],
   "source": [
    "stack.index(5) # 해당하는 요소의 인덱스 번호"
   ]
  },
  {
   "cell_type": "markdown",
   "id": "3f287b66",
   "metadata": {},
   "source": [
    "# Sorting"
   ]
  },
  {
   "cell_type": "code",
   "execution_count": null,
   "id": "1c37684d",
   "metadata": {},
   "outputs": [
    {
     "data": {
      "text/plain": [
       "[1, 1, 2, 3, 4]"
      ]
     },
     "execution_count": 184,
     "metadata": {},
     "output_type": "execute_result"
    }
   ],
   "source": [
    "l = [1,3,2,4,1]\n",
    "l.sort() # 원본 변경 : 매우 위험해 보임\n",
    "\n",
    "l"
   ]
  },
  {
   "cell_type": "code",
   "execution_count": 188,
   "id": "f26dc862",
   "metadata": {},
   "outputs": [
    {
     "name": "stdout",
     "output_type": "stream",
     "text": [
      "[1, 3, 2, 4, 1] [1, 1, 2, 3, 4]\n"
     ]
    }
   ],
   "source": [
    "l = [1,3,2,4,1]\n",
    "\n",
    "sorted(l) # 원본 보존 : 매우 추천!!!!!\n",
    "\n",
    "print(l, sorted(l))"
   ]
  },
  {
   "cell_type": "code",
   "execution_count": null,
   "id": "4efc773e",
   "metadata": {},
   "outputs": [
    {
     "data": {
      "text/plain": [
       "([1, 1, 2, 3, 4], [1, 3, 2, 4, 1])"
      ]
     },
     "execution_count": 203,
     "metadata": {},
     "output_type": "execute_result"
    }
   ],
   "source": [
    "l = [1,3,2,4,1]\n",
    "\n",
    "def my_sort(data):\n",
    "    cp_data = data[:] # shallow copy\n",
    "    for i in range(0, len(data)):\n",
    "        for j in range(i+1, len(data)):\n",
    "            if cp_data[i] > cp_data[j]:\n",
    "                    cp_data[i], cp_data[j] = cp_data[j], cp_data[i]\n",
    "    return cp_data\n",
    "\n",
    "l2 = my_sort(l)\n",
    "l2, l"
   ]
  },
  {
   "cell_type": "markdown",
   "id": "adbce3d2",
   "metadata": {},
   "source": [
    "# tuple"
   ]
  },
  {
   "cell_type": "code",
   "execution_count": null,
   "id": "71304626",
   "metadata": {},
   "outputs": [
    {
     "data": {
      "text/plain": [
       "(tuple, tuple)"
      ]
     },
     "execution_count": 197,
     "metadata": {},
     "output_type": "execute_result"
    }
   ],
   "source": [
    "t1 = tuple()\n",
    "t2 = (1,2,3,4,5)\n",
    "\n",
    "type(t1), type(t2)"
   ]
  },
  {
   "cell_type": "code",
   "execution_count": 199,
   "id": "358f1eb6",
   "metadata": {},
   "outputs": [],
   "source": [
    "# 불변성\n",
    "# TypeError: 'tuple' object does not support item assignment\n",
    "# t[1] = 5"
   ]
  },
  {
   "cell_type": "code",
   "execution_count": 209,
   "id": "165444c2",
   "metadata": {},
   "outputs": [
    {
     "data": {
      "text/plain": [
       "(1, 2)"
      ]
     },
     "execution_count": 209,
     "metadata": {},
     "output_type": "execute_result"
    }
   ],
   "source": [
    "# unpacking\n",
    "a, b = (1, 2)\n",
    "a, b"
   ]
  },
  {
   "cell_type": "code",
   "execution_count": 210,
   "id": "ffe03573",
   "metadata": {},
   "outputs": [
    {
     "data": {
      "text/plain": [
       "tuple"
      ]
     },
     "execution_count": 210,
     "metadata": {},
     "output_type": "execute_result"
    }
   ],
   "source": [
    "def foo():\n",
    "    return 1,2\n",
    "\n",
    "foo_return_val = foo()\n",
    "\n",
    "type(foo_return_val)"
   ]
  },
  {
   "cell_type": "code",
   "execution_count": 234,
   "id": "acbaeffc",
   "metadata": {},
   "outputs": [],
   "source": [
    "t = (5,3,4,2,1)\n",
    "# my_sort(t) # TypeError: 'tuple' object does not support item assignment"
   ]
  },
  {
   "cell_type": "code",
   "execution_count": 216,
   "id": "92f15aed",
   "metadata": {},
   "outputs": [
    {
     "data": {
      "text/plain": [
       "(['1'], ['2'], ['3'])"
      ]
     },
     "execution_count": 216,
     "metadata": {},
     "output_type": "execute_result"
    }
   ],
   "source": [
    "a, b, c = map(list,'1 2 3'.split())\n",
    "\n",
    "a, b, c"
   ]
  },
  {
   "cell_type": "code",
   "execution_count": 217,
   "id": "3504a209",
   "metadata": {},
   "outputs": [
    {
     "data": {
      "text/plain": [
       "(1, 2, 3)"
      ]
     },
     "execution_count": 217,
     "metadata": {},
     "output_type": "execute_result"
    }
   ],
   "source": [
    "a, b, c = map(int,'1 2 3'.split())\n",
    "\n",
    "a, b, c"
   ]
  },
  {
   "cell_type": "markdown",
   "id": "4cfbbba7",
   "metadata": {},
   "source": [
    "# list comprehension"
   ]
  },
  {
   "cell_type": "code",
   "execution_count": null,
   "id": "eab6b97f",
   "metadata": {},
   "outputs": [
    {
     "data": {
      "text/plain": [
       "2"
      ]
     },
     "execution_count": 233,
     "metadata": {},
     "output_type": "execute_result"
    }
   ],
   "source": [
    "# 모음의 개수를 세는 함수 > list comprehension으로!\n",
    "\n",
    "s = 'hello'\n",
    "\n",
    "#a e i o u\n",
    "\n",
    "def count_voewl2(str):\n",
    "    lst = [i for i in str if i in 'aeiou']\n",
    "    return len(lst)\n",
    "\n",
    "count_voewl2(s)"
   ]
  },
  {
   "cell_type": "code",
   "execution_count": 229,
   "id": "a6dd82fa",
   "metadata": {},
   "outputs": [
    {
     "data": {
      "text/plain": [
       "[1, 4, 9]"
      ]
     },
     "execution_count": 229,
     "metadata": {},
     "output_type": "execute_result"
    }
   ],
   "source": [
    "data = [1,2,3]\n",
    "\n",
    "#[1,4,9]\n",
    "new_data = [i*i for i in data]\n",
    "new_data"
   ]
  },
  {
   "cell_type": "code",
   "execution_count": 228,
   "id": "ac084591",
   "metadata": {},
   "outputs": [
    {
     "data": {
      "text/plain": [
       "[1, 3]"
      ]
     },
     "execution_count": 228,
     "metadata": {},
     "output_type": "execute_result"
    }
   ],
   "source": [
    "new_data2 = [i for i in data if i % 2 != 0]\n",
    "new_data2"
   ]
  }
 ],
 "metadata": {
  "kernelspec": {
   "display_name": "Python 3",
   "language": "python",
   "name": "python3"
  },
  "language_info": {
   "codemirror_mode": {
    "name": "ipython",
    "version": 3
   },
   "file_extension": ".py",
   "mimetype": "text/x-python",
   "name": "python",
   "nbconvert_exporter": "python",
   "pygments_lexer": "ipython3",
   "version": "3.9.13"
  }
 },
 "nbformat": 4,
 "nbformat_minor": 5
}
