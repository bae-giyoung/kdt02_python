{
 "cells": [
  {
   "cell_type": "markdown",
   "id": "5b1cbbba",
   "metadata": {},
   "source": [
    "# * -> 가변 위치 인자 (함수 정의부: 함수 인자에서 \"가변 인자 수집자\") -> packing\n",
    "### *args는 여러 개의 인자를 튜플로 \"수집\"하는 문법 (정의 시)\n",
    "##### 여러 개의 인자 → 튜플\n",
    "##### 여러 위치 인자를 하나의 튜플로 수집\n",
    "##### 함수 정의부에서 *args는 위치 인자들을 모아 튜플 args 에 저장한다.\n",
    "##### 함수 내부에서 args는 그 튜플이고, *args는 그 튜플을 다시 언팩하는 표현식이다.\n",
    "##### def func(*args):         # 위치 인자 여러 개를 튜플로 받음"
   ]
  },
  {
   "cell_type": "code",
   "execution_count": 2,
   "id": "997773d6",
   "metadata": {},
   "outputs": [
    {
     "name": "stdout",
     "output_type": "stream",
     "text": [
      "1 2 (3, 4, 5, 6)\n"
     ]
    },
    {
     "data": {
      "text/plain": [
       "21"
      ]
     },
     "execution_count": 2,
     "metadata": {},
     "output_type": "execute_result"
    }
   ],
   "source": [
    "# 정의 시\n",
    "def add(a, b, *args): # 함수 정의부에서: *args는 고정 인자를 제외한 나머지 인자를 수집한다는 뜻이고, args는 여러 인자 3,4,5,6을 수집한 \"투플 (3,4,5,6)\"이 된다\n",
    "    print(a, b, args) # 함수 본문에서: args는 투플 (3,4,5,6), *args는 투플 args를 3,4,5,6로 다시 unpacking하는 표현식\n",
    "    return sum([a,b,*args])\n",
    "\n",
    "add(1,2,3,4,5,6)"
   ]
  },
  {
   "cell_type": "code",
   "execution_count": 3,
   "id": "440ac271",
   "metadata": {},
   "outputs": [
    {
     "name": "stdout",
     "output_type": "stream",
     "text": [
      "1 2 (3, 4, 5)\n"
     ]
    },
    {
     "data": {
      "text/plain": [
       "15"
      ]
     },
     "execution_count": 3,
     "metadata": {},
     "output_type": "execute_result"
    }
   ],
   "source": [
    "# 호출 시 unpacking\n",
    "tp = (3,4,5)\n",
    "add(1,2,*tp)"
   ]
  },
  {
   "cell_type": "markdown",
   "id": "73c40975",
   "metadata": {},
   "source": [
    "# ** -> 가변 키워드 인자 (함수 정의부: 함수 인자에서 \"키워드 인자 수집\") -> packing\n",
    "### 여러 키워드 인자를 하나의 dict로 수집\n",
    "### 여러 키워드 인자 → dict\n",
    "##### def func(**kwargs):      # 키워드 인자 여러 개를 딕셔너리로 받음\n",
    "##### **kwargs는 단지 묶이는 문법일 뿐, 내부에서는 dict 그대로 사용"
   ]
  },
  {
   "cell_type": "code",
   "execution_count": 58,
   "id": "5860a5dc",
   "metadata": {},
   "outputs": [
    {
     "name": "stdout",
     "output_type": "stream",
     "text": [
      "철수은 20살입니다.\n"
     ]
    }
   ],
   "source": [
    "def greet(name, age):\n",
    "    print(f\"{name}은 {age}살입니다.\")\n",
    "\n",
    "info = {\"name\": \"철수\", \"age\": 20}\n",
    "greet(**info)"
   ]
  },
  {
   "cell_type": "code",
   "execution_count": null,
   "id": "f25f62e1",
   "metadata": {},
   "outputs": [
    {
     "name": "stdout",
     "output_type": "stream",
     "text": [
      "{'name': 'Alice', 'age': 30}\n",
      "\n"
     ]
    }
   ],
   "source": [
    "def fn(**kwargs):   # 키워드 인자 여러 개를 딕셔너리로 받음\n",
    "    print(kwargs)\n",
    "    print()\n",
    "\n",
    "fn(name=\"Alice\", age=30)\n",
    "\n",
    "dc = {'a': 1, 'b': 1, 'c': 2}"
   ]
  },
  {
   "cell_type": "code",
   "execution_count": 56,
   "id": "f9ac4f93",
   "metadata": {},
   "outputs": [
    {
     "name": "stdout",
     "output_type": "stream",
     "text": [
      "1 2\n"
     ]
    }
   ],
   "source": [
    "def f(a, b):\n",
    "    print(a, b)\n",
    "\n",
    "d = {\"a\": 1, \"b\": 2}\n",
    "f(**d)"
   ]
  },
  {
   "cell_type": "code",
   "execution_count": null,
   "id": "456a0a00",
   "metadata": {},
   "outputs": [
    {
     "data": {
      "text/plain": [
       "{'x': 1, 'y': 2}"
      ]
     },
     "execution_count": 55,
     "metadata": {},
     "output_type": "execute_result"
    }
   ],
   "source": [
    "# 딕셔너리 생성 시 **로 병합 (Python 3.5+)\n",
    "d1 = {\"x\": 1}\n",
    "d2 = {\"y\": 2}\n",
    "merged = {**d1, **d2}\n",
    "\n",
    "merged"
   ]
  },
  {
   "cell_type": "code",
   "execution_count": 40,
   "id": "58783ca9",
   "metadata": {},
   "outputs": [
    {
     "data": {
      "text/plain": [
       "{'c': 2, 'a': 1, 'b': 1}"
      ]
     },
     "execution_count": 40,
     "metadata": {},
     "output_type": "execute_result"
    }
   ],
   "source": [
    "dc1 = {'a': 1, 'b': 1}\n",
    "dc2 = {'c': 2, **dc1}\n",
    "dc2"
   ]
  },
  {
   "cell_type": "markdown",
   "id": "174631eb",
   "metadata": {},
   "source": [
    "## * -> 언패킹 연산자\n",
    "## ** -> 키워드 언패킹 연산자\n",
    "## 표현식으로 해석되는 문맥 안에서\n",
    "### 함수 호출부 : sum(*list)\n",
    "### 리스트/투플 생성부 : [*tup]\n",
    "\n",
    "#### *iterable은 iterable을 \"전개\"하는 표현식\n",
    "##### a. 함수 호출 시 인자 언팩 (expression context)\n",
    "##### sum(*list)       # *list → 언팩해서 위치 인자로 전달\n",
    "##### func(**dict_obj) # **dict_obj → 언팩해서 키워드 인자로 전달\n",
    "\n",
    "##### b. 리스트/튜플 생성 시 내부에서 언팩(expression)\n",
    "##### [*tup]           # 리스트 내부 언팩\n",
    "##### (*tup,)          # 튜플 내부 언팩\n",
    "\n",
    "##### c. 리스트 컴프리헨션 내부에서 * 사용 가능(Python 3.5+)\n",
    "##### [*x for x in [[1, 2], [3, 4]]]\n",
    "##### 불가능!!! [**x for x in [{\"a\":1}, {\"b\":2}]]  # Error: 문법 에러 (dict comprehension은 따로 있음)"
   ]
  },
  {
   "cell_type": "markdown",
   "id": "a683e4ce",
   "metadata": {},
   "source": [
    "## [결론]\n",
    "##### *와 **는 함수 정의부에서는 \"가변 인자 수집자\"로,\n",
    "##### 표현식(context)에서는 iterable 또는 dict를 언팩하는 연산자로 동작한다.\n",
    "##### 표현식에서의 *, **는 항상 unpacking 문맥에서만 유효하다."
   ]
  }
 ],
 "metadata": {
  "kernelspec": {
   "display_name": "Python 3",
   "language": "python",
   "name": "python3"
  },
  "language_info": {
   "codemirror_mode": {
    "name": "ipython",
    "version": 3
   },
   "file_extension": ".py",
   "mimetype": "text/x-python",
   "name": "python",
   "nbconvert_exporter": "python",
   "pygments_lexer": "ipython3",
   "version": "3.9.13"
  }
 },
 "nbformat": 4,
 "nbformat_minor": 5
}
