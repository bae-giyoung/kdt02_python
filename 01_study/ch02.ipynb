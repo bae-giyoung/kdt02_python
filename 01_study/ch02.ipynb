{
 "cells": [
  {
   "cell_type": "markdown",
   "id": "5fad27b3",
   "metadata": {},
   "source": [
    "# dictionary"
   ]
  },
  {
   "cell_type": "code",
   "execution_count": null,
   "id": "c11a41a5",
   "metadata": {},
   "outputs": [],
   "source": [
    "class list:\n",
    "    def __init__(self):\n",
    "        pass"
   ]
  },
  {
   "cell_type": "code",
   "execution_count": 1,
   "id": "8242712d",
   "metadata": {},
   "outputs": [
    {
     "data": {
      "text/plain": [
       "([], list)"
      ]
     },
     "execution_count": 1,
     "metadata": {},
     "output_type": "execute_result"
    }
   ],
   "source": [
    "a = list()\n",
    "a, type(a)"
   ]
  },
  {
   "cell_type": "code",
   "execution_count": 3,
   "id": "06fcae21",
   "metadata": {},
   "outputs": [
    {
     "data": {
      "text/plain": [
       "[1,\n",
       " 3.14,\n",
       " 'hello',\n",
       " True,\n",
       " <function sum(iterable, /, start=0)>,\n",
       " [1, 2, 3, 4],\n",
       " 5.6]"
      ]
     },
     "execution_count": 3,
     "metadata": {},
     "output_type": "execute_result"
    }
   ],
   "source": [
    "a = [1, 3.14, 'hello', True, sum, [1,2,3,4], (5.6)]\n",
    "a"
   ]
  },
  {
   "cell_type": "code",
   "execution_count": 4,
   "id": "abc810b4",
   "metadata": {},
   "outputs": [
    {
     "name": "stdout",
     "output_type": "stream",
     "text": [
      "1 <class 'int'>\n",
      "3.14 <class 'float'>\n",
      "hello <class 'str'>\n",
      "True <class 'bool'>\n",
      "<built-in function sum> <class 'builtin_function_or_method'>\n",
      "[1, 2, 3, 4] <class 'list'>\n",
      "5.6 <class 'float'>\n"
     ]
    }
   ],
   "source": [
    "for i in a:\n",
    "    print(i, type(i))"
   ]
  },
  {
   "cell_type": "code",
   "execution_count": 3,
   "id": "e75e7959",
   "metadata": {},
   "outputs": [
    {
     "data": {
      "text/plain": [
       "({}, dict)"
      ]
     },
     "execution_count": 3,
     "metadata": {},
     "output_type": "execute_result"
    }
   ],
   "source": [
    "b = {}\n",
    "b, type(b)"
   ]
  },
  {
   "cell_type": "code",
   "execution_count": null,
   "id": "17335f79",
   "metadata": {},
   "outputs": [
    {
     "data": {
      "text/plain": [
       "{'h': 5, 'i': 20}"
      ]
     },
     "execution_count": 4,
     "metadata": {},
     "output_type": "execute_result"
    }
   ],
   "source": [
    "b['h'] = 5\n",
    "b['i'] = 15\n",
    "b['i'] = 20 # dictionary는 중복이 안된다는것! 유니크한 키 값\n",
    "b"
   ]
  },
  {
   "cell_type": "code",
   "execution_count": 13,
   "id": "78d15d46",
   "metadata": {},
   "outputs": [
    {
     "data": {
      "text/plain": [
       "(1, 4, 5)"
      ]
     },
     "execution_count": 13,
     "metadata": {},
     "output_type": "execute_result"
    }
   ],
   "source": [
    "a = [1,2,3,4,5]\n",
    "a.count(5), a.index(5), a[4]"
   ]
  },
  {
   "cell_type": "code",
   "execution_count": 1,
   "id": "804333a2",
   "metadata": {},
   "outputs": [
    {
     "data": {
      "text/plain": [
       "True"
      ]
     },
     "execution_count": 1,
     "metadata": {},
     "output_type": "execute_result"
    }
   ],
   "source": [
    "a = range(100_000_000) # input이 커지면 B-Tree 방식으로 바꾸기\n",
    "\n",
    "def find(lst, value) -> bool:\n",
    "    for l in lst:\n",
    "        if l == value: return True\n",
    "    return False\n",
    "\n",
    "find(a, 57_000_000)"
   ]
  },
  {
   "cell_type": "code",
   "execution_count": 33,
   "id": "83f880ce",
   "metadata": {},
   "outputs": [
    {
     "data": {
      "text/plain": [
       "True"
      ]
     },
     "execution_count": 33,
     "metadata": {},
     "output_type": "execute_result"
    }
   ],
   "source": [
    "a = {}\n",
    "for i in range(100_000_000):\n",
    "    a[i] = True\n",
    "\n",
    "a[57_000_000]"
   ]
  },
  {
   "cell_type": "code",
   "execution_count": 8,
   "id": "7fb05986",
   "metadata": {},
   "outputs": [
    {
     "data": {
      "text/plain": [
       "True"
      ]
     },
     "execution_count": 8,
     "metadata": {},
     "output_type": "execute_result"
    }
   ],
   "source": [
    "s =\"hello\"\n",
    "\n",
    "'e' in s"
   ]
  },
  {
   "cell_type": "code",
   "execution_count": 7,
   "id": "5d9d7220",
   "metadata": {},
   "outputs": [
    {
     "data": {
      "text/plain": [
       "True"
      ]
     },
     "execution_count": 7,
     "metadata": {},
     "output_type": "execute_result"
    }
   ],
   "source": [
    "a = {\n",
    "    \"a\": 5,\n",
    "    \"b\": 15,\n",
    "    \"c\": 30\n",
    "}\n",
    "\n",
    "'c' in a"
   ]
  },
  {
   "cell_type": "code",
   "execution_count": null,
   "id": "89a4be87",
   "metadata": {},
   "outputs": [
    {
     "name": "stdout",
     "output_type": "stream",
     "text": [
      "a\n",
      "b\n",
      "c\n",
      "a 5\n",
      "b 15\n",
      "c 30\n"
     ]
    }
   ],
   "source": [
    "d = {\n",
    "    \"a\": 5,\n",
    "    \"b\": 15,\n",
    "    \"c\": 30\n",
    "}\n",
    "\n",
    "for k in d: # key만 나옴\n",
    "    print(k)\n",
    "\n",
    "for k,v in d.items():\n",
    "    print(k, v)"
   ]
  },
  {
   "cell_type": "code",
   "execution_count": 34,
   "id": "d220736b",
   "metadata": {},
   "outputs": [
    {
     "name": "stdout",
     "output_type": "stream",
     "text": [
      "{'h': 1, 'e': 1, 'l': 3, 'o': 2, 'w': 1, 'r': 1, 'd': 1}\n"
     ]
    }
   ],
   "source": [
    "from string import ascii_letters\n",
    "\n",
    "s = 'hello, world!'\n",
    "\n",
    "def count_alpha(s)->dict:\n",
    "    dic = dict()\n",
    "    for ch in s:\n",
    "        if ch in ascii_letters: # ascii_letters => abcdefghijklmnopqrstuvwxyzABCDEFGHIJKLMNOPQRSTUVWXYZ를 반환\n",
    "            dic[ch] = dic.get(ch, 0)+1 # 한 줄 코딩\n",
    "            #if ch in dic:\n",
    "            #    dic[ch] = dic[ch]+1\n",
    "            #else:\n",
    "            #    dic[ch] = 1\n",
    "    print(dic)\n",
    "\n",
    "count_alpha(s)"
   ]
  },
  {
   "cell_type": "code",
   "execution_count": 30,
   "id": "8d24afff",
   "metadata": {},
   "outputs": [
    {
     "data": {
      "text/plain": [
       "{'d': 1, 'e': 1, 'h': 1, 'l': 1, 'o': 1, 'r': 1, 'w': 1}"
      ]
     },
     "execution_count": 30,
     "metadata": {},
     "output_type": "execute_result"
    }
   ],
   "source": [
    "d = {'h': 1, 'e': 1, 'l': 1, 'o': 1, 'w': 1, 'r': 1, 'd': 1}\n",
    "sorted(d)\n",
    "sorted(d.items()) # 키 벨류 다 넣어줌\n",
    "dict(sorted(d.items()))"
   ]
  },
  {
   "cell_type": "code",
   "execution_count": 31,
   "id": "a97f3fc8",
   "metadata": {},
   "outputs": [
    {
     "data": {
      "text/plain": [
       "[('h', 1), ('e', 1), ('l', 1), ('o', 1), ('w', 1), ('r', 1), ('d', 1)]"
      ]
     },
     "execution_count": 31,
     "metadata": {},
     "output_type": "execute_result"
    }
   ],
   "source": [
    "sorted(d.items(), key=lambda x: x[1], reverse=True) # reverse와 reversed 차이"
   ]
  },
  {
   "cell_type": "code",
   "execution_count": 32,
   "id": "c4c73ea0",
   "metadata": {},
   "outputs": [
    {
     "data": {
      "text/plain": [
       "dict_items([('h', 1), ('e', 1), ('l', 1), ('o', 1), ('w', 1), ('r', 1), ('d', 1)])"
      ]
     },
     "execution_count": 32,
     "metadata": {},
     "output_type": "execute_result"
    }
   ],
   "source": [
    "d.items()"
   ]
  },
  {
   "cell_type": "code",
   "execution_count": 44,
   "id": "93638053",
   "metadata": {},
   "outputs": [
    {
     "data": {
      "text/plain": [
       "{1: True, 3.14: True, 'h': True, False: True, ('c', 30): True, (1, 2): True}"
      ]
     },
     "execution_count": 44,
     "metadata": {},
     "output_type": "execute_result"
    }
   ],
   "source": [
    "d = {}\n",
    "\n",
    "d[1] = True\n",
    "d[3.14] = True\n",
    "d['h'] = True\n",
    "d[False] = True\n",
    "d[(k,v)] = True\n",
    "#d[[1,2]] = True # TypeError: unhashable type: 'list'\n",
    "\n",
    "key = [1, 2]\n",
    "#d[key] = True #TypeError: unhashable type: 'list'\n",
    "#hash(key) # TypeError: unhashable type: 'list'\n",
    "hash('h')\n",
    "hash(1)\n",
    "d[(1,2)] = True\n",
    "key.append(3)\n",
    "\n",
    "d"
   ]
  },
  {
   "cell_type": "markdown",
   "id": "cfbd822e",
   "metadata": {},
   "source": [
    "# 8장 함수"
   ]
  },
  {
   "cell_type": "code",
   "execution_count": 53,
   "id": "2a117612",
   "metadata": {},
   "outputs": [
    {
     "data": {
      "text/plain": [
       "([1, 2, 3, 4, 5, 6, 7, 8, 9, 10], [3, 5, 7, 9, 11, 13, 15, 17, 19, 21])"
      ]
     },
     "execution_count": 53,
     "metadata": {},
     "output_type": "execute_result"
    }
   ],
   "source": [
    "x = list(range(1, 11))\n",
    "\n",
    "def f(x: int) -> int:\n",
    "    return [v*2+1 for v in x]\n",
    "\n",
    "x_result = f(x)\n",
    "x, x_result"
   ]
  },
  {
   "cell_type": "code",
   "execution_count": 55,
   "id": "dac7b73e",
   "metadata": {},
   "outputs": [
    {
     "data": {
      "text/plain": [
       "3"
      ]
     },
     "execution_count": 55,
     "metadata": {},
     "output_type": "execute_result"
    }
   ],
   "source": [
    "def add(a: int, b: int) -> int:\n",
    "    return a+b\n",
    "\n",
    "add(1,2)"
   ]
  },
  {
   "cell_type": "code",
   "execution_count": 60,
   "id": "6fe96513",
   "metadata": {},
   "outputs": [
    {
     "name": "stdout",
     "output_type": "stream",
     "text": [
      "6\n",
      "11\n"
     ]
    }
   ],
   "source": [
    "def add_5(a: int, b=5) -> int:\n",
    "    return a + b\n",
    "\n",
    "print(add_5(1))\n",
    "print(add_5(1,10))"
   ]
  },
  {
   "cell_type": "markdown",
   "id": "c419cc2a",
   "metadata": {},
   "source": [
    "## 함수 리턴 타입이 여러개"
   ]
  },
  {
   "cell_type": "code",
   "execution_count": null,
   "id": "ad38b99b",
   "metadata": {},
   "outputs": [
    {
     "name": "stdout",
     "output_type": "stream",
     "text": [
      "(11, 30)\n",
      "None\n"
     ]
    }
   ],
   "source": [
    "import typing\n",
    "# sum_product(5,6) -> 11, 30\n",
    "def sum_product(a: int, b: int) -> tuple:\n",
    "   if not isinstance(a, int) or not isinstance(b, int): return None # 파이썬의 None 타입에 대해서\n",
    "   return a+b, a*b \n",
    "\n",
    "print(sum_product(5,6))\n",
    "print(sum_product({},6))"
   ]
  },
  {
   "cell_type": "code",
   "execution_count": null,
   "id": "a70a51b7",
   "metadata": {},
   "outputs": [
    {
     "name": "stdout",
     "output_type": "stream",
     "text": [
      "3\n",
      "3\n",
      "3\n"
     ]
    }
   ],
   "source": [
    "def max_elements(a: int, b: int, c: int) -> int: # 여러개의 매개변수에 대해 어떻게 처리할 지 > 가변길이 인자\n",
    "    \"\"\"\n",
    "    원소 중 가장 큰 값을 반환합니다.\n",
    "    \"\"\"\n",
    "    return max(a,b,c)\n",
    "\n",
    "print(max_elements(1,2,3))\n",
    "print(max_elements(*[1,2,3]))\n",
    "print(max_elements(*(1,2,3))) #unpacking"
   ]
  },
  {
   "cell_type": "code",
   "execution_count": 73,
   "id": "99d973a3",
   "metadata": {},
   "outputs": [
    {
     "data": {
      "text/plain": [
       "3"
      ]
     },
     "execution_count": 73,
     "metadata": {},
     "output_type": "execute_result"
    }
   ],
   "source": [
    "params = {\n",
    "    'a': 3,\n",
    "    'b': 2,\n",
    "    'c': 1,\n",
    "}\n",
    "max_elements(**params) # 이것은"
   ]
  },
  {
   "cell_type": "code",
   "execution_count": 79,
   "id": "0ea65fc7",
   "metadata": {},
   "outputs": [
    {
     "data": {
      "text/plain": [
       "5"
      ]
     },
     "execution_count": 79,
     "metadata": {},
     "output_type": "execute_result"
    }
   ],
   "source": [
    "def max_elements2(a, b, *args):\n",
    "    return max(a, b, *args)\n",
    "\n",
    "max_elements2(1,2,3,4,5)"
   ]
  },
  {
   "cell_type": "code",
   "execution_count": null,
   "id": "0a9dbe72",
   "metadata": {},
   "outputs": [
    {
     "name": "stdout",
     "output_type": "stream",
     "text": [
      "1 2 c d e\n"
     ]
    }
   ],
   "source": [
    "params = {\n",
    "    'c': 3,\n",
    "    'd': 2,\n",
    "    'e': 1,\n",
    "}\n",
    "\n",
    "def max_elements3(a, b=None, **kargs):\n",
    "    print(type(**kargs), **kargs)\n",
    "    return max(a, b, **kargs)\n",
    "\n",
    "print(1, 2, *params)"
   ]
  },
  {
   "cell_type": "code",
   "execution_count": 99,
   "id": "2a3baa3c",
   "metadata": {},
   "outputs": [
    {
     "data": {
      "text/plain": [
       "[1, 2, 3, 4, 5]"
      ]
     },
     "execution_count": 99,
     "metadata": {},
     "output_type": "execute_result"
    }
   ],
   "source": [
    "[*(1,2,3,4,5)]"
   ]
  },
  {
   "cell_type": "code",
   "execution_count": null,
   "id": "8345075a",
   "metadata": {},
   "outputs": [
    {
     "data": {
      "text/plain": [
       "(1, 2)"
      ]
     },
     "execution_count": 109,
     "metadata": {},
     "output_type": "execute_result"
    }
   ],
   "source": [
    "# 파이썬의 변수는 모두 참조변수이다!\n",
    "a = 1\n",
    "b = 2\n",
    "#a, b = b, a # 여기서는 당연히 잘 됨\n",
    "def swap(a,b):\n",
    "    a,b = b,a # 지역변수였기 때문\n",
    "\n",
    "swap(a, b)\n",
    "a, b # 지역변수 였기 때문에 변하지 않았다"
   ]
  },
  {
   "cell_type": "code",
   "execution_count": 107,
   "id": "b6697f86",
   "metadata": {},
   "outputs": [
    {
     "data": {
      "text/plain": [
       "([2], [1])"
      ]
     },
     "execution_count": 107,
     "metadata": {},
     "output_type": "execute_result"
    }
   ],
   "source": [
    "a = [1]\n",
    "b = [2]\n",
    "def swap2(a,b):\n",
    "    a[0],b[0] = b[0],a[0]\n",
    "\n",
    "swap2(a, b)\n",
    "a, b"
   ]
  },
  {
   "cell_type": "markdown",
   "id": "ee043ae4",
   "metadata": {},
   "source": [
    "python tutor 사이트 사용해 보기 => 메모리 모델 보여줌\n",
    "java는 online java compiler 사용해 보기"
   ]
  },
  {
   "cell_type": "markdown",
   "id": "c65e4c0e",
   "metadata": {},
   "source": [
    "# import 방법"
   ]
  },
  {
   "cell_type": "code",
   "execution_count": 110,
   "id": "5ab5b6da",
   "metadata": {},
   "outputs": [
    {
     "data": {
      "text/plain": [
       "1.6094379124341003"
      ]
     },
     "execution_count": 110,
     "metadata": {},
     "output_type": "execute_result"
    }
   ],
   "source": [
    "import math\n",
    "math.log(5)"
   ]
  },
  {
   "cell_type": "code",
   "execution_count": null,
   "id": "65b15b58",
   "metadata": {},
   "outputs": [
    {
     "data": {
      "text/plain": [
       "1.6094379124341003"
      ]
     },
     "execution_count": 111,
     "metadata": {},
     "output_type": "execute_result"
    }
   ],
   "source": [
    "from math import log\n",
    "log(5)"
   ]
  },
  {
   "cell_type": "code",
   "execution_count": 112,
   "id": "626452a0",
   "metadata": {},
   "outputs": [
    {
     "data": {
      "text/plain": [
       "1.6094379124341003"
      ]
     },
     "execution_count": 112,
     "metadata": {},
     "output_type": "execute_result"
    }
   ],
   "source": [
    "import math as m\n",
    "m.log(5)"
   ]
  },
  {
   "cell_type": "markdown",
   "id": "b5e5a177",
   "metadata": {},
   "source": [
    "# 9장 클래스"
   ]
  },
  {
   "cell_type": "code",
   "execution_count": null,
   "id": "45e47efa",
   "metadata": {},
   "outputs": [
    {
     "name": "stdout",
     "output_type": "stream",
     "text": [
      "3\n",
      "3 <class 'int'>\n"
     ]
    }
   ],
   "source": [
    "class Adder:\n",
    "    def __init__(self, a, b):\n",
    "        self.a = a\n",
    "        self.b = b\n",
    "    \n",
    "    def add(self):\n",
    "        return self.a + self.b\n",
    "    \n",
    "    def __call__(self, *args, **kargs):\n",
    "        return self.a + self.b\n",
    "    \n",
    "    def __str__(self, *args, **kargs):\n",
    "        return str(self.a + self.b)\n",
    "\n",
    "add = Adder(1,2)\n",
    "print(add.add()) # 3\n",
    "print(add(), type(add())) #3"
   ]
  },
  {
   "cell_type": "code",
   "execution_count": null,
   "id": "c1c5d00a",
   "metadata": {},
   "outputs": [
    {
     "data": {
      "text/plain": [
       "3"
      ]
     },
     "execution_count": 133,
     "metadata": {},
     "output_type": "execute_result"
    }
   ],
   "source": [
    "class MySum:\n",
    "    def __init__(self, list):\n",
    "        self.data = list\n",
    "\n",
    "    def __call__(self, *args, **kargs):\n",
    "        return sum(self.data)\n",
    "    \n",
    "    def __getitem__(self, idx: int): # 이 메서드에 대해 더 알아보기!\n",
    "        return self.data[idx]\n",
    "\n",
    "s= MySum([1,2,3,4,5])\n",
    "s[0]+s[1] # 3"
   ]
  },
  {
   "cell_type": "code",
   "execution_count": 134,
   "id": "cb73a2f7",
   "metadata": {},
   "outputs": [
    {
     "data": {
      "text/plain": [
       "15"
      ]
     },
     "execution_count": 134,
     "metadata": {},
     "output_type": "execute_result"
    }
   ],
   "source": [
    "s= MySum([1,2,3,4,5])\n",
    "s()"
   ]
  },
  {
   "cell_type": "code",
   "execution_count": null,
   "id": "015f0427",
   "metadata": {},
   "outputs": [
    {
     "ename": "TypeError",
     "evalue": "iter() returned non-iterator of type 'list'",
     "output_type": "error",
     "traceback": [
      "\u001b[1;31m---------------------------------------------------------------------------\u001b[0m",
      "\u001b[1;31mTypeError\u001b[0m                                 Traceback (most recent call last)",
      "Cell \u001b[1;32mIn[132], line 14\u001b[0m\n\u001b[0;32m     11\u001b[0m     \u001b[38;5;28;01mdef\u001b[39;00m\u001b[38;5;250m \u001b[39m\u001b[38;5;21m__getItem__\u001b[39m(\u001b[38;5;28mself\u001b[39m):\n\u001b[0;32m     12\u001b[0m         \u001b[38;5;28;01mreturn\u001b[39;00m \u001b[38;5;28mself\u001b[39m\u001b[38;5;241m.\u001b[39mdata\n\u001b[1;32m---> 14\u001b[0m \u001b[38;5;28;01mfor\u001b[39;00m i \u001b[38;5;129;01min\u001b[39;00m Range(\u001b[38;5;241m5\u001b[39m):\n\u001b[0;32m     15\u001b[0m     \u001b[38;5;28mprint\u001b[39m(i)\n",
      "\u001b[1;31mTypeError\u001b[0m: iter() returned non-iterator of type 'list'"
     ]
    }
   ],
   "source": [
    "class Range:\n",
    "    def __init__(self, a:int):\n",
    "        self.data = list(range(a))\n",
    "\n",
    "    def __iter__(self): # 이 메서드에 대해!\n",
    "        return self.data\n",
    "\n",
    "    def __next__(self): # 이 메서드에 대해!\n",
    "        if self.current < self.n:\n",
    "            pass\n",
    "        else:\n",
    "            raise StopIteration # 매우 중요! > 알아보기!!!!!\n",
    "\n",
    "for i in Range(5):\n",
    "    print(i)"
   ]
  }
 ],
 "metadata": {
  "kernelspec": {
   "display_name": "Python 3",
   "language": "python",
   "name": "python3"
  },
  "language_info": {
   "codemirror_mode": {
    "name": "ipython",
    "version": 3
   },
   "file_extension": ".py",
   "mimetype": "text/x-python",
   "name": "python",
   "nbconvert_exporter": "python",
   "pygments_lexer": "ipython3",
   "version": "3.9.13"
  }
 },
 "nbformat": 4,
 "nbformat_minor": 5
}
